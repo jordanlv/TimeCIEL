{
 "cells": [
  {
   "metadata": {},
   "cell_type": "markdown",
   "source": "## Loading the iris dataset",
   "id": "123188f54b1194a"
  },
  {
   "metadata": {
    "ExecuteTime": {
     "end_time": "2024-05-14T11:19:42.201601Z",
     "start_time": "2024-05-14T11:19:42.197803Z"
    }
   },
   "cell_type": "code",
   "source": [
    "from sklearn import datasets\n",
    "from sklearn.model_selection import train_test_split"
   ],
   "id": "7b6467a93d522016",
   "outputs": [],
   "execution_count": 85
  },
  {
   "metadata": {
    "ExecuteTime": {
     "end_time": "2024-05-14T11:19:42.273125Z",
     "start_time": "2024-05-14T11:19:42.268609Z"
    }
   },
   "cell_type": "code",
   "source": "iris = datasets.load_iris()",
   "id": "97bd0547c8a1f04f",
   "outputs": [],
   "execution_count": 86
  },
  {
   "metadata": {
    "ExecuteTime": {
     "end_time": "2024-05-14T11:19:42.278794Z",
     "start_time": "2024-05-14T11:19:42.274136Z"
    }
   },
   "cell_type": "code",
   "source": [
    "X = iris.data[:, :4] \n",
    "Y = iris.target \n",
    "feature_size = len(iris.feature_names)\n",
    "print(iris.target_names)\n",
    "target_size = 1"
   ],
   "id": "da2f1d5b31964ec8",
   "outputs": [
    {
     "name": "stdout",
     "output_type": "stream",
     "text": [
      "['setosa' 'versicolor' 'virginica']\n"
     ]
    }
   ],
   "execution_count": 87
  },
  {
   "metadata": {},
   "cell_type": "markdown",
   "source": "## Splitting the dataset intro train and test",
   "id": "e00e4f6e4f6bf483"
  },
  {
   "metadata": {
    "ExecuteTime": {
     "end_time": "2024-05-14T11:19:42.283434Z",
     "start_time": "2024-05-14T11:19:42.279800Z"
    }
   },
   "cell_type": "code",
   "source": "X_train, X_test, y_train, y_test = train_test_split(X,Y,test_size = 0.20,random_state = 42) ",
   "id": "17f828c9244d3c34",
   "outputs": [],
   "execution_count": 88
  },
  {
   "metadata": {},
   "cell_type": "markdown",
   "source": "## Learning with Context",
   "id": "ce4fd7d726d8439e"
  },
  {
   "metadata": {
    "ExecuteTime": {
     "end_time": "2024-05-14T11:19:42.297015Z",
     "start_time": "2024-05-14T11:19:42.291440Z"
    }
   },
   "cell_type": "code",
   "source": [
    "from torch_mas.head import Head\n",
    "from torch_mas.data import DataBuffer\n",
    "\n",
    "model = Head(\n",
    "    feature_size, \n",
    "    target_size, \n",
    "    R=0.5,\n",
    "    imprecise_th=0.01,\n",
    "    bad_th=0.1,\n",
    "    alpha=0.1,\n",
    "    memory_length=10,\n",
    "    n_epochs=3\n",
    ")"
   ],
   "id": "6b975969b36febcd",
   "outputs": [],
   "execution_count": 89
  },
  {
   "metadata": {},
   "cell_type": "markdown",
   "source": "## Training the agents",
   "id": "40e762f9ad0bb829"
  },
  {
   "metadata": {
    "ExecuteTime": {
     "end_time": "2024-05-14T11:19:43.147915Z",
     "start_time": "2024-05-14T11:19:42.302027Z"
    }
   },
   "cell_type": "code",
   "source": [
    "import time\n",
    "dataset = DataBuffer(X_train,y_train)\n",
    "t = time.time()\n",
    "model.fit(dataset)\n",
    "tt = time.time() - t\n",
    "print(f\"Total training time: {tt}s\")\n",
    "\n",
    "print(\"Number of agents created:\", model.agents.n_agents)"
   ],
   "id": "ba646631d02b8e5c",
   "outputs": [
    {
     "name": "stdout",
     "output_type": "stream",
     "text": [
      "Total training time: 0.8420016765594482s\n",
      "Number of agents created: 66\n"
     ]
    }
   ],
   "execution_count": 90
  },
  {
   "metadata": {},
   "cell_type": "markdown",
   "source": "## Computing performance",
   "id": "44ee5b5cc3a50af2"
  },
  {
   "metadata": {
    "ExecuteTime": {
     "end_time": "2024-05-14T11:19:43.152447Z",
     "start_time": "2024-05-14T11:19:43.148923Z"
    }
   },
   "cell_type": "code",
   "source": "print(type(X_test))",
   "id": "175936dbd3b66c48",
   "outputs": [
    {
     "name": "stdout",
     "output_type": "stream",
     "text": [
      "<class 'numpy.ndarray'>\n"
     ]
    }
   ],
   "execution_count": 91
  },
  {
   "metadata": {
    "ExecuteTime": {
     "end_time": "2024-05-14T11:19:43.167105Z",
     "start_time": "2024-05-14T11:19:43.153458Z"
    }
   },
   "cell_type": "code",
   "source": [
    "import time\n",
    "import torch\n",
    "test_feature_size = X_test.size\n",
    "t = time.time()\n",
    "y_pred = model.predict(torch.from_numpy(X_test).float())\n",
    "y_test = torch.from_numpy(y_test).int()\n",
    "tt = time.time() - t\n",
    "tps = tt / test_feature_size\n",
    "print(f\"Total Prediction time: {tt}s for 4 samples\")\n",
    "print(f\"Prediction time per sample: {tps}s\")\n",
    "print(X_test)\n",
    "print(y_pred)\n",
    "print(y_test)\n",
    "\n",
    "mse = ((y_pred - y_test) ** 2).mean()\n",
    "print(\"Mean Squared Error:\", mse.detach().numpy())"
   ],
   "id": "f1a353c4258c44b2",
   "outputs": [
    {
     "name": "stdout",
     "output_type": "stream",
     "text": [
      "Total Prediction time: 0.006000995635986328s for 4 samples\n",
      "Prediction time per sample: 5.0008296966552734e-05s\n",
      "[[6.1 2.8 4.7 1.2]\n",
      " [5.7 3.8 1.7 0.3]\n",
      " [7.7 2.6 6.9 2.3]\n",
      " [6.  2.9 4.5 1.5]\n",
      " [6.8 2.8 4.8 1.4]\n",
      " [5.4 3.4 1.5 0.4]\n",
      " [5.6 2.9 3.6 1.3]\n",
      " [6.9 3.1 5.1 2.3]\n",
      " [6.2 2.2 4.5 1.5]\n",
      " [5.8 2.7 3.9 1.2]\n",
      " [6.5 3.2 5.1 2. ]\n",
      " [4.8 3.  1.4 0.1]\n",
      " [5.5 3.5 1.3 0.2]\n",
      " [4.9 3.1 1.5 0.1]\n",
      " [5.1 3.8 1.5 0.3]\n",
      " [6.3 3.3 4.7 1.6]\n",
      " [6.5 3.  5.8 2.2]\n",
      " [5.6 2.5 3.9 1.1]\n",
      " [5.7 2.8 4.5 1.3]\n",
      " [6.4 2.8 5.6 2.2]\n",
      " [4.7 3.2 1.6 0.2]\n",
      " [6.1 3.  4.9 1.8]\n",
      " [5.  3.4 1.6 0.4]\n",
      " [6.4 2.8 5.6 2.1]\n",
      " [7.9 3.8 6.4 2. ]\n",
      " [6.7 3.  5.2 2.3]\n",
      " [6.7 2.5 5.8 1.8]\n",
      " [6.8 3.2 5.9 2.3]\n",
      " [4.8 3.  1.4 0.3]\n",
      " [4.8 3.1 1.6 0.2]]\n",
      "tensor([[0.9988],\n",
      "        [0.0000],\n",
      "        [2.0197],\n",
      "        [1.1211],\n",
      "        [1.0018],\n",
      "        [0.0000],\n",
      "        [0.9623],\n",
      "        [1.9782],\n",
      "        [1.1039],\n",
      "        [0.9952],\n",
      "        [1.9674],\n",
      "        [0.0000],\n",
      "        [0.0000],\n",
      "        [0.0000],\n",
      "        [0.0000],\n",
      "        [1.2538],\n",
      "        [2.0008],\n",
      "        [0.9859],\n",
      "        [1.1007],\n",
      "        [1.9651],\n",
      "        [0.0000],\n",
      "        [1.4261],\n",
      "        [0.0000],\n",
      "        [1.9571],\n",
      "        [   nan],\n",
      "        [1.9942],\n",
      "        [1.9613],\n",
      "        [2.0634],\n",
      "        [0.0000],\n",
      "        [0.0000]], grad_fn=<DivBackward0>)\n",
      "tensor([1, 0, 2, 1, 1, 0, 1, 2, 1, 1, 2, 0, 0, 0, 0, 1, 2, 1, 1, 2, 0, 2, 0, 2,\n",
      "        2, 2, 2, 2, 0, 0], dtype=torch.int32)\n",
      "Mean Squared Error: nan\n"
     ]
    }
   ],
   "execution_count": 92
  },
  {
   "metadata": {
    "ExecuteTime": {
     "end_time": "2024-05-14T11:19:43.170926Z",
     "start_time": "2024-05-14T11:19:43.168114Z"
    }
   },
   "cell_type": "code",
   "source": "",
   "id": "12a5a45e4c81ba44",
   "outputs": [],
   "execution_count": 92
  }
 ],
 "metadata": {
  "kernelspec": {
   "display_name": "Python 3",
   "language": "python",
   "name": "python3"
  },
  "language_info": {
   "codemirror_mode": {
    "name": "ipython",
    "version": 2
   },
   "file_extension": ".py",
   "mimetype": "text/x-python",
   "name": "python",
   "nbconvert_exporter": "python",
   "pygments_lexer": "ipython2",
   "version": "2.7.6"
  }
 },
 "nbformat": 4,
 "nbformat_minor": 5
}
