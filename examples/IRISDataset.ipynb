{
 "cells": [
  {
   "metadata": {},
   "cell_type": "code",
   "outputs": [],
   "execution_count": null,
   "source": [
    "from sklearn.metrics import classification_report\n",
    "from sklearn.model_selection import train_test_split\n",
    "from sklearn import datasets\n",
    "from torch_mas.ciel import Ciel"
   ],
   "id": "7ea63cef7192255a"
  },
  {
   "metadata": {},
   "cell_type": "markdown",
   "source": "## Loading the iris dataset",
   "id": "123188f54b1194a"
  },
  {
   "metadata": {
    "ExecuteTime": {
     "end_time": "2024-05-15T07:41:47.551240Z",
     "start_time": "2024-05-15T07:41:47.547520Z"
    }
   },
   "cell_type": "code",
   "source": "data = datasets.load_iris()",
   "id": "7b6467a93d522016",
   "outputs": [],
   "execution_count": 10
  },
  {
   "metadata": {},
   "cell_type": "markdown",
   "source": "## Splitting the dataset intro train and test",
   "id": "e00e4f6e4f6bf483"
  },
  {
   "metadata": {
    "ExecuteTime": {
     "end_time": "2024-05-15T07:41:47.573531Z",
     "start_time": "2024-05-15T07:41:47.569878Z"
    }
   },
   "cell_type": "code",
   "source": "X_train, X_test, y_train, y_test = train_test_split(data.data, data.target, random_state=0)",
   "id": "17f828c9244d3c34",
   "outputs": [],
   "execution_count": 13
  },
  {
   "metadata": {},
   "cell_type": "markdown",
   "source": "",
   "id": "2866a03707173eb6"
  },
  {
   "metadata": {},
   "cell_type": "markdown",
   "source": "## Learning with Context",
   "id": "ce4fd7d726d8439e"
  },
  {
   "metadata": {
    "ExecuteTime": {
     "end_time": "2024-05-15T07:41:47.583235Z",
     "start_time": "2024-05-15T07:41:47.574541Z"
    }
   },
   "cell_type": "code",
   "source": [
    "from torch_mas.ciel import Ciel\n",
    "\n",
    "re = Ciel(\n",
    "    4, \n",
    "    1, \n",
    "    R=0.8,\n",
    "    imprecise_th=0.5,\n",
    "    bad_th=0.0015,\n",
    "    alpha=0.5,\n",
    "    memory_length=3,\n",
    "    n_epochs=5\n",
    "    )"
   ],
   "id": "6b975969b36febcd",
   "outputs": [],
   "execution_count": 14
  },
  {
   "metadata": {},
   "cell_type": "markdown",
   "source": "## Training the agents",
   "id": "40e762f9ad0bb829"
  },
  {
   "metadata": {
    "ExecuteTime": {
     "end_time": "2024-05-15T07:41:48.388268Z",
     "start_time": "2024-05-15T07:41:47.584245Z"
    }
   },
   "cell_type": "code",
   "source": [
    "import time\n",
    "t = time.time()\n",
    "re.fit(X_train, y_train)\n",
    "tt = time.time() - t\n",
    "print(f\"Total training time: {tt}s\")\n",
    "\n",
    "print(\"Number of agents created:\", re.estimator.agents.n_agents)"
   ],
   "id": "ba646631d02b8e5c",
   "outputs": [
    {
     "name": "stdout",
     "output_type": "stream",
     "text": [
      "Total training time: 0.8000006675720215s\n",
      "Number of agents created: 41\n"
     ]
    }
   ],
   "execution_count": 15
  },
  {
   "metadata": {},
   "cell_type": "markdown",
   "source": "## Computing performance",
   "id": "44ee5b5cc3a50af2"
  },
  {
   "metadata": {
    "ExecuteTime": {
     "end_time": "2024-05-15T07:41:48.392972Z",
     "start_time": "2024-05-15T07:41:48.389275Z"
    }
   },
   "cell_type": "code",
   "source": [
    "y_pred = re.predict(X_test)\n",
    "print(classification_report(y_test, y_pred))"
   ],
   "id": "175936dbd3b66c48",
   "outputs": [
    {
     "name": "stdout",
     "output_type": "stream",
     "text": [
      "<class 'numpy.ndarray'>\n"
     ]
    }
   ],
   "execution_count": 16
  },
  {
   "metadata": {},
   "cell_type": "markdown",
   "source": "# Hyperparameter optimisation",
   "id": "54e8813eb3aa6710"
  },
  {
   "metadata": {
    "ExecuteTime": {
     "end_time": "2024-05-15T07:51:47.476145Z",
     "start_time": "2024-05-15T07:41:48.403528Z"
    }
   },
   "cell_type": "code",
   "source": [
    "dic = {\n",
    "    \"R\" : {0,1},\n",
    "    \"bad_th\" : {0,1},\n",
    "    \"alpha\" : {0,1},\n",
    "}\n",
    "init = 0.1\n",
    "best = math.inf\n",
    "bestdic = []\n",
    "for R in range(1,10):\n",
    "    for b in range(1,10):\n",
    "        for a in range(1,10):\n",
    "            model = Head(\n",
    "            feature_size, \n",
    "            target_size, \n",
    "            R=R*init,\n",
    "            imprecise_th=0.5,\n",
    "            bad_th=b*init,\n",
    "            alpha=a*init,\n",
    "            memory_length=3,\n",
    "            n_epochs=5\n",
    "            )\n",
    "            dataset = DataBuffer(X_train,y_train)\n",
    "            t = time.time()\n",
    "            model.fit(dataset)\n",
    "            y_pred = model.predict(torch.from_numpy(X_test).float()).round()\n",
    "            \n",
    "            differences = torch.ne(y_pred.squeeze(), y_test)\n",
    "            num_differences = differences.sum().item()\n",
    "            #print(\"Parameters : \",R*init,\":\",b*init,\":\",a*init,\" Score:\",num_differences)\n",
    "            if(num_differences < best):\n",
    "                bestdic = [{R,b,a}]\n",
    "                best = num_differences\n",
    "            elif num_differences == best:\n",
    "                bestdic.append({R,b,a})\n",
    "print(\"Best parameters\", bestdic, \" with Score\", best)"
   ],
   "id": "f989949ece811e3a",
   "outputs": [
    {
     "name": "stdout",
     "output_type": "stream",
     "text": [
      "Best parameters [{8, 1}, {8, 2}, {8, 9, 2}, {8, 3}, {8, 9, 6}, {8, 5}, {8, 9, 2}, {8, 9, 4}, {8, 9, 6}, {9, 1}, {9, 2, 4}, {9, 3, 7}, {9, 4, 1}, {9, 3, 4}, {9, 4}, {8, 9, 4}, {9, 2, 5}, {9, 4, 5}, {9, 6, 1}, {9, 4, 6}, {9, 7}, {8, 9, 4}, {8, 9}]  with Score 0\n"
     ]
    }
   ],
   "execution_count": 18
  }
 ],
 "metadata": {
  "kernelspec": {
   "display_name": "Python 3",
   "language": "python",
   "name": "python3"
  },
  "language_info": {
   "codemirror_mode": {
    "name": "ipython",
    "version": 2
   },
   "file_extension": ".py",
   "mimetype": "text/x-python",
   "name": "python",
   "nbconvert_exporter": "python",
   "pygments_lexer": "ipython2",
   "version": "2.7.6"
  }
 },
 "nbformat": 4,
 "nbformat_minor": 5
}
