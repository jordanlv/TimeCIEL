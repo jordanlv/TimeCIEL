{
 "cells": [
  {
   "metadata": {},
   "cell_type": "markdown",
   "source": "## Loading the iris dataset",
   "id": "123188f54b1194a"
  },
  {
   "metadata": {
    "ExecuteTime": {
     "end_time": "2024-05-14T13:38:48.960565Z",
     "start_time": "2024-05-14T13:38:48.957524Z"
    }
   },
   "cell_type": "code",
   "source": [
    "from sklearn import datasets\n",
    "from sklearn.model_selection import train_test_split"
   ],
   "id": "7b6467a93d522016",
   "outputs": [],
   "execution_count": 372
  },
  {
   "metadata": {
    "ExecuteTime": {
     "end_time": "2024-05-14T13:38:49.030986Z",
     "start_time": "2024-05-14T13:38:49.018588Z"
    }
   },
   "cell_type": "code",
   "source": "iris = datasets.load_iris()",
   "id": "97bd0547c8a1f04f",
   "outputs": [],
   "execution_count": 373
  },
  {
   "metadata": {
    "ExecuteTime": {
     "end_time": "2024-05-14T13:38:49.036682Z",
     "start_time": "2024-05-14T13:38:49.033006Z"
    }
   },
   "cell_type": "code",
   "source": [
    "X = iris.data[:, :4] \n",
    "Y = iris.target \n",
    "feature_size = len(iris.feature_names)\n",
    "print(iris.target_names)\n",
    "target_size = 1"
   ],
   "id": "da2f1d5b31964ec8",
   "outputs": [
    {
     "name": "stdout",
     "output_type": "stream",
     "text": [
      "['setosa' 'versicolor' 'virginica']\n"
     ]
    }
   ],
   "execution_count": 374
  },
  {
   "metadata": {},
   "cell_type": "markdown",
   "source": "## Splitting the dataset intro train and test",
   "id": "e00e4f6e4f6bf483"
  },
  {
   "metadata": {
    "ExecuteTime": {
     "end_time": "2024-05-14T13:38:49.041859Z",
     "start_time": "2024-05-14T13:38:49.037710Z"
    }
   },
   "cell_type": "code",
   "source": "X_train, X_test, y_train, y_test = train_test_split(X,Y,test_size = 0.20,random_state = 42) ",
   "id": "17f828c9244d3c34",
   "outputs": [],
   "execution_count": 375
  },
  {
   "metadata": {},
   "cell_type": "markdown",
   "source": "## Learning with Context",
   "id": "ce4fd7d726d8439e"
  },
  {
   "metadata": {
    "ExecuteTime": {
     "end_time": "2024-05-14T13:38:49.047387Z",
     "start_time": "2024-05-14T13:38:49.042865Z"
    }
   },
   "cell_type": "code",
   "source": [
    "from torch_mas.head import Head\n",
    "from torch_mas.data import DataBuffer\n",
    "\n",
    "model = Head(\n",
    "    feature_size, \n",
    "    target_size, \n",
    "    R=0.25,\n",
    "    imprecise_th=0.5,\n",
    "    bad_th=0.0015,\n",
    "    alpha=0.5,\n",
    "    memory_length=3,\n",
    "    n_epochs=5\n",
    ")"
   ],
   "id": "6b975969b36febcd",
   "outputs": [],
   "execution_count": 376
  },
  {
   "metadata": {},
   "cell_type": "markdown",
   "source": "## Training the agents",
   "id": "40e762f9ad0bb829"
  },
  {
   "metadata": {
    "ExecuteTime": {
     "end_time": "2024-05-14T13:38:50.052171Z",
     "start_time": "2024-05-14T13:38:49.052393Z"
    }
   },
   "cell_type": "code",
   "source": [
    "import time\n",
    "dataset = DataBuffer(X_train,y_train)\n",
    "t = time.time()\n",
    "model.fit(dataset)\n",
    "tt = time.time() - t\n",
    "print(f\"Total training time: {tt}s\")\n",
    "\n",
    "print(\"Number of agents created:\", model.agents.n_agents)"
   ],
   "id": "ba646631d02b8e5c",
   "outputs": [
    {
     "name": "stdout",
     "output_type": "stream",
     "text": [
      "Total training time: 0.9960007667541504s\n",
      "Number of agents created: 98\n"
     ]
    }
   ],
   "execution_count": 377
  },
  {
   "metadata": {},
   "cell_type": "markdown",
   "source": "## Computing performance",
   "id": "44ee5b5cc3a50af2"
  },
  {
   "metadata": {
    "ExecuteTime": {
     "end_time": "2024-05-14T13:38:50.056021Z",
     "start_time": "2024-05-14T13:38:50.053177Z"
    }
   },
   "cell_type": "code",
   "source": "print(type(X_test))",
   "id": "175936dbd3b66c48",
   "outputs": [
    {
     "name": "stdout",
     "output_type": "stream",
     "text": [
      "<class 'numpy.ndarray'>\n"
     ]
    }
   ],
   "execution_count": 378
  },
  {
   "metadata": {
    "ExecuteTime": {
     "end_time": "2024-05-14T13:38:50.067037Z",
     "start_time": "2024-05-14T13:38:50.056021Z"
    }
   },
   "cell_type": "code",
   "source": [
    "import time\n",
    "import torch\n",
    "import math\n",
    "test_feature_size = X_test.size\n",
    "t = time.time()\n",
    "y_pred = model.predict(torch.from_numpy(X_test).float()).round()\n",
    "y_test = torch.from_numpy(y_test).int()\n",
    "tt = time.time() - t\n",
    "tps = tt / test_feature_size\n",
    "print(f\"Total Prediction time: {tt}s for 4 samples\")\n",
    "print(f\"Prediction time per sample: {tps}s\")\n",
    "\n",
    "differences = torch.ne(y_pred.squeeze(), y_test)\n",
    "print(differences)\n",
    "num_differences = differences.sum().item()\n",
    "        \n",
    "print(\"Differences:\", num_differences)"
   ],
   "id": "f1a353c4258c44b2",
   "outputs": [
    {
     "name": "stdout",
     "output_type": "stream",
     "text": [
      "Total Prediction time: 0.004055500030517578s for 4 samples\n",
      "Prediction time per sample: 3.3795833587646484e-05s\n",
      "tensor([False,  True,  True, False,  True, False,  True,  True,  True, False,\n",
      "         True, False, False, False, False,  True,  True, False,  True,  True,\n",
      "        False,  True, False,  True,  True,  True,  True,  True, False, False])\n",
      "Differences: 17\n"
     ]
    }
   ],
   "execution_count": 379
  },
  {
   "metadata": {},
   "cell_type": "markdown",
   "source": "# Hyperparameter optimisation",
   "id": "54e8813eb3aa6710"
  },
  {
   "metadata": {
    "ExecuteTime": {
     "end_time": "2024-05-14T13:48:52.331407Z",
     "start_time": "2024-05-14T13:38:50.068057Z"
    }
   },
   "cell_type": "code",
   "source": [
    "dic = {\n",
    "    \"R\" : {0,1},\n",
    "    \"bad_th\" : {0,1},\n",
    "    \"alpha\" : {0,1},\n",
    "}\n",
    "init = 0.1\n",
    "best = math.inf\n",
    "bestdic = []\n",
    "for R in range(1,10):\n",
    "    for b in range(1,10):\n",
    "        for a in range(1,10):\n",
    "            model = Head(\n",
    "            feature_size, \n",
    "            target_size, \n",
    "            R=R*init,\n",
    "            imprecise_th=0.5,\n",
    "            bad_th=b*init,\n",
    "            alpha=a*init,\n",
    "            memory_length=3,\n",
    "            n_epochs=5\n",
    "            )\n",
    "            dataset = DataBuffer(X_train,y_train)\n",
    "            t = time.time()\n",
    "            model.fit(dataset)\n",
    "            y_pred = model.predict(torch.from_numpy(X_test).float()).round()\n",
    "            \n",
    "            differences = torch.ne(y_pred.squeeze(), y_test)\n",
    "            num_differences = differences.sum().item()\n",
    "            #print(\"Parameters : \",R*init,\":\",b*init,\":\",a*init,\" Score:\",num_differences)\n",
    "            if(num_differences < best):\n",
    "                bestdic = [{R,b,a}]\n",
    "                best = num_differences\n",
    "            elif num_differences == best:\n",
    "                bestdic.append({R,b,a})\n",
    "print(\"Best parameters\", bestdic, \" with Score\", best)"
   ],
   "id": "f989949ece811e3a",
   "outputs": [
    {
     "name": "stdout",
     "output_type": "stream",
     "text": [
      "Best parameters [{8, 1}, {8, 1, 2}, {8, 2, 3}, {8, 9, 2}, {8, 3, 5}, {8, 3, 4}, {8, 4}, {8, 9, 4}, {8, 3, 5}, {8, 1, 6}, {8, 3, 6}, {8, 9, 6}, {8, 5}, {8, 6}, {8, 9, 5}, {9, 1, 6}, {9, 2}, {9, 2, 4}, {9, 2}, {9, 3, 1}, {9, 2, 3}, {9, 3, 5}, {9, 3, 7}, {9, 3, 4}, {9, 4, 7}, {9, 3, 5}, {9, 6, 1}, {9, 3, 6}, {9, 6, 7}, {9, 6, 7}, {9, 7}, {8, 9, 3}, {9, 3}, {9, 5}, {8, 9}]  with Score 0\n"
     ]
    }
   ],
   "execution_count": 380
  }
 ],
 "metadata": {
  "kernelspec": {
   "display_name": "Python 3",
   "language": "python",
   "name": "python3"
  },
  "language_info": {
   "codemirror_mode": {
    "name": "ipython",
    "version": 2
   },
   "file_extension": ".py",
   "mimetype": "text/x-python",
   "name": "python",
   "nbconvert_exporter": "python",
   "pygments_lexer": "ipython2",
   "version": "2.7.6"
  }
 },
 "nbformat": 4,
 "nbformat_minor": 5
}
