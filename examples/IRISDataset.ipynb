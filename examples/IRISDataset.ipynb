{
 "cells": [
  {
   "metadata": {
    "ExecuteTime": {
     "end_time": "2024-05-15T13:05:09.292329Z",
     "start_time": "2024-05-15T13:05:09.288216Z"
    }
   },
   "cell_type": "code",
   "source": [
    "from sklearn.metrics import classification_report\n",
    "from sklearn.model_selection import train_test_split, GridSearchCV\n",
    "from sklearn import datasets\n",
    "from torch_mas.ciel import Ciel"
   ],
   "id": "7ea63cef7192255a",
   "outputs": [],
   "execution_count": 77
  },
  {
   "metadata": {},
   "cell_type": "markdown",
   "source": "## Loading the iris dataset",
   "id": "123188f54b1194a"
  },
  {
   "metadata": {
    "ExecuteTime": {
     "end_time": "2024-05-15T13:05:09.345244Z",
     "start_time": "2024-05-15T13:05:09.340359Z"
    }
   },
   "cell_type": "code",
   "source": "data = datasets.load_iris()",
   "id": "7b6467a93d522016",
   "outputs": [],
   "execution_count": 78
  },
  {
   "metadata": {},
   "cell_type": "markdown",
   "source": "## Splitting the dataset intro train and test",
   "id": "e00e4f6e4f6bf483"
  },
  {
   "metadata": {
    "ExecuteTime": {
     "end_time": "2024-05-15T13:05:09.351268Z",
     "start_time": "2024-05-15T13:05:09.346249Z"
    }
   },
   "cell_type": "code",
   "source": "X_train, X_test, y_train, y_test = train_test_split(data.data, data.target, random_state=0)",
   "id": "17f828c9244d3c34",
   "outputs": [],
   "execution_count": 79
  },
  {
   "metadata": {},
   "cell_type": "markdown",
   "source": "",
   "id": "2866a03707173eb6"
  },
  {
   "metadata": {},
   "cell_type": "markdown",
   "source": "## Learning with Context",
   "id": "ce4fd7d726d8439e"
  },
  {
   "metadata": {
    "ExecuteTime": {
     "end_time": "2024-05-15T13:05:09.356735Z",
     "start_time": "2024-05-15T13:05:09.354275Z"
    }
   },
   "cell_type": "code",
   "source": [
    "from torch_mas.ciel import Ciel\n",
    "\n",
    "re = Ciel(\n",
    "    4, \n",
    "    1, \n",
    "    R=0.8,\n",
    "    imprecise_th=0.5,\n",
    "    bad_th=0.0015,\n",
    "    alpha=0.5,\n",
    "    memory_length=3,\n",
    "    n_epochs=5\n",
    "    )"
   ],
   "id": "6b975969b36febcd",
   "outputs": [],
   "execution_count": 80
  },
  {
   "metadata": {},
   "cell_type": "markdown",
   "source": "## Training the agents",
   "id": "40e762f9ad0bb829"
  },
  {
   "metadata": {
    "ExecuteTime": {
     "end_time": "2024-05-15T13:05:10.106572Z",
     "start_time": "2024-05-15T13:05:09.357748Z"
    }
   },
   "cell_type": "code",
   "source": [
    "import time\n",
    "t = time.time()\n",
    "re.fit(X_train, y_train)\n",
    "tt = time.time() - t\n",
    "print(f\"Total training time: {tt}s\")\n",
    "\n",
    "print(\"Number of agents created:\", re.estimator.agents.n_agents)"
   ],
   "id": "ba646631d02b8e5c",
   "outputs": [
    {
     "name": "stdout",
     "output_type": "stream",
     "text": [
      "Total training time: 0.745032548904419s\n",
      "Number of agents created: 32\n"
     ]
    }
   ],
   "execution_count": 81
  },
  {
   "metadata": {},
   "cell_type": "markdown",
   "source": "## Computing performance",
   "id": "44ee5b5cc3a50af2"
  },
  {
   "metadata": {
    "ExecuteTime": {
     "end_time": "2024-05-15T13:05:10.119695Z",
     "start_time": "2024-05-15T13:05:10.107578Z"
    }
   },
   "cell_type": "code",
   "source": [
    "y_pred = re.predict(X_test)\n",
    "print(classification_report(y_test, y_pred))"
   ],
   "id": "175936dbd3b66c48",
   "outputs": [
    {
     "name": "stdout",
     "output_type": "stream",
     "text": [
      "              precision    recall  f1-score   support\n",
      "\n",
      "           0       1.00      1.00      1.00        13\n",
      "           1       0.94      0.94      0.94        16\n",
      "           2       0.89      0.89      0.89         9\n",
      "\n",
      "    accuracy                           0.95        38\n",
      "   macro avg       0.94      0.94      0.94        38\n",
      "weighted avg       0.95      0.95      0.95        38\n",
      "\n"
     ]
    }
   ],
   "execution_count": 82
  },
  {
   "metadata": {},
   "cell_type": "markdown",
   "source": "# Hyperparameter optimisation",
   "id": "54e8813eb3aa6710"
  },
  {
   "metadata": {
    "ExecuteTime": {
     "end_time": "2024-05-15T13:05:10.124196Z",
     "start_time": "2024-05-15T13:05:10.120702Z"
    }
   },
   "cell_type": "code",
   "source": "print(re.get_params())",
   "id": "4e3391cb61f01f4",
   "outputs": [
    {
     "name": "stdout",
     "output_type": "stream",
     "text": [
      "{'R': 0.8, 'alpha': 0.5, 'bad_th': 0.0015, 'imprecise_th': 0.5, 'input_dim': 4, 'memory_length': 3, 'n_epochs': 5, 'output_dim': 1}\n"
     ]
    }
   ],
   "execution_count": 83
  },
  {
   "metadata": {
    "ExecuteTime": {
     "end_time": "2024-05-15T13:05:10.129324Z",
     "start_time": "2024-05-15T13:05:10.125205Z"
    }
   },
   "cell_type": "code",
   "source": [
    "import numpy as np\n",
    "param_grid = [\n",
    "  {\n",
    "      'R': np.linspace(0,1,11),\n",
    "      'imprecise_th': np.linspace(0,1,11),\n",
    "      'alpha': np.linspace(0,1,11),\n",
    "      'bad_th': np.linspace(0,1,11)\n",
    "}]"
   ],
   "id": "eae499a5a3cb486b",
   "outputs": [],
   "execution_count": 84
  },
  {
   "metadata": {
    "ExecuteTime": {
     "end_time": "2024-05-15T13:05:10.135288Z",
     "start_time": "2024-05-15T13:05:10.130331Z"
    }
   },
   "cell_type": "code",
   "source": [
    "re = Ciel(\n",
    "    4, \n",
    "    1, \n",
    "    R=0.8,\n",
    "    imprecise_th=0.5,\n",
    "    bad_th=0.0015,\n",
    "    alpha=0.5,\n",
    "    memory_length=3,\n",
    "    n_epochs=5\n",
    "    )"
   ],
   "id": "5823a3020dd3a6d3",
   "outputs": [],
   "execution_count": 85
  },
  {
   "metadata": {
    "ExecuteTime": {
     "end_time": "2024-05-15T13:05:10.139010Z",
     "start_time": "2024-05-15T13:05:10.136295Z"
    }
   },
   "cell_type": "code",
   "source": "grid = GridSearchCV(estimator=re, param_grid=param_grid, scoring='accuracy', verbose=2)",
   "id": "a3c0abf689dd56cc",
   "outputs": [],
   "execution_count": 86
  },
  {
   "metadata": {
    "ExecuteTime": {
     "end_time": "2024-05-15T13:05:59.951409Z",
     "start_time": "2024-05-15T13:05:10.140017Z"
    }
   },
   "cell_type": "code",
   "source": "grid.fit(X_train, y_train)",
   "id": "f6420baf16661b92",
   "outputs": [
    {
     "name": "stdout",
     "output_type": "stream",
     "text": [
      "Fitting 5 folds for each of 14641 candidates, totalling 73205 fits\n",
      "[CV] END .....R=0.0, alpha=0.0, bad_th=0.0, imprecise_th=0.0; total time=   0.6s\n",
      "[CV] END .....R=0.0, alpha=0.0, bad_th=0.0, imprecise_th=0.0; total time=   0.6s\n",
      "[CV] END .....R=0.0, alpha=0.0, bad_th=0.0, imprecise_th=0.0; total time=   0.6s\n",
      "[CV] END .....R=0.0, alpha=0.0, bad_th=0.0, imprecise_th=0.0; total time=   0.6s\n",
      "[CV] END .....R=0.0, alpha=0.0, bad_th=0.0, imprecise_th=0.0; total time=   0.6s\n",
      "[CV] END .....R=0.0, alpha=0.0, bad_th=0.0, imprecise_th=0.1; total time=   0.6s\n",
      "[CV] END .....R=0.0, alpha=0.0, bad_th=0.0, imprecise_th=0.1; total time=   0.6s\n",
      "[CV] END .....R=0.0, alpha=0.0, bad_th=0.0, imprecise_th=0.1; total time=   0.6s\n",
      "[CV] END .....R=0.0, alpha=0.0, bad_th=0.0, imprecise_th=0.1; total time=   0.7s\n",
      "[CV] END .....R=0.0, alpha=0.0, bad_th=0.0, imprecise_th=0.1; total time=   0.6s\n",
      "[CV] END .....R=0.0, alpha=0.0, bad_th=0.0, imprecise_th=0.2; total time=   0.6s\n",
      "[CV] END .....R=0.0, alpha=0.0, bad_th=0.0, imprecise_th=0.2; total time=   0.6s\n",
      "[CV] END .....R=0.0, alpha=0.0, bad_th=0.0, imprecise_th=0.2; total time=   0.6s\n",
      "[CV] END .....R=0.0, alpha=0.0, bad_th=0.0, imprecise_th=0.2; total time=   0.6s\n",
      "[CV] END .....R=0.0, alpha=0.0, bad_th=0.0, imprecise_th=0.2; total time=   0.6s\n",
      "[CV] END R=0.0, alpha=0.0, bad_th=0.0, imprecise_th=0.30000000000000004; total time=   0.6s\n",
      "[CV] END R=0.0, alpha=0.0, bad_th=0.0, imprecise_th=0.30000000000000004; total time=   0.6s\n",
      "[CV] END R=0.0, alpha=0.0, bad_th=0.0, imprecise_th=0.30000000000000004; total time=   0.6s\n",
      "[CV] END R=0.0, alpha=0.0, bad_th=0.0, imprecise_th=0.30000000000000004; total time=   0.6s\n",
      "[CV] END R=0.0, alpha=0.0, bad_th=0.0, imprecise_th=0.30000000000000004; total time=   0.6s\n",
      "[CV] END .....R=0.0, alpha=0.0, bad_th=0.0, imprecise_th=0.4; total time=   0.6s\n",
      "[CV] END .....R=0.0, alpha=0.0, bad_th=0.0, imprecise_th=0.4; total time=   0.6s\n",
      "[CV] END .....R=0.0, alpha=0.0, bad_th=0.0, imprecise_th=0.4; total time=   0.6s\n",
      "[CV] END .....R=0.0, alpha=0.0, bad_th=0.0, imprecise_th=0.4; total time=   0.7s\n",
      "[CV] END .....R=0.0, alpha=0.0, bad_th=0.0, imprecise_th=0.4; total time=   0.6s\n",
      "[CV] END .....R=0.0, alpha=0.0, bad_th=0.0, imprecise_th=0.5; total time=   0.6s\n",
      "[CV] END .....R=0.0, alpha=0.0, bad_th=0.0, imprecise_th=0.5; total time=   0.6s\n",
      "[CV] END .....R=0.0, alpha=0.0, bad_th=0.0, imprecise_th=0.5; total time=   0.6s\n",
      "[CV] END .....R=0.0, alpha=0.0, bad_th=0.0, imprecise_th=0.5; total time=   0.7s\n",
      "[CV] END .....R=0.0, alpha=0.0, bad_th=0.0, imprecise_th=0.5; total time=   0.7s\n",
      "[CV] END R=0.0, alpha=0.0, bad_th=0.0, imprecise_th=0.6000000000000001; total time=   0.6s\n",
      "[CV] END R=0.0, alpha=0.0, bad_th=0.0, imprecise_th=0.6000000000000001; total time=   0.6s\n",
      "[CV] END R=0.0, alpha=0.0, bad_th=0.0, imprecise_th=0.6000000000000001; total time=   0.6s\n",
      "[CV] END R=0.0, alpha=0.0, bad_th=0.0, imprecise_th=0.6000000000000001; total time=   0.7s\n",
      "[CV] END R=0.0, alpha=0.0, bad_th=0.0, imprecise_th=0.6000000000000001; total time=   0.7s\n",
      "[CV] END R=0.0, alpha=0.0, bad_th=0.0, imprecise_th=0.7000000000000001; total time=   0.7s\n",
      "[CV] END R=0.0, alpha=0.0, bad_th=0.0, imprecise_th=0.7000000000000001; total time=   0.6s\n",
      "[CV] END R=0.0, alpha=0.0, bad_th=0.0, imprecise_th=0.7000000000000001; total time=   0.6s\n",
      "[CV] END R=0.0, alpha=0.0, bad_th=0.0, imprecise_th=0.7000000000000001; total time=   0.6s\n",
      "[CV] END R=0.0, alpha=0.0, bad_th=0.0, imprecise_th=0.7000000000000001; total time=   0.6s\n",
      "[CV] END .....R=0.0, alpha=0.0, bad_th=0.0, imprecise_th=0.8; total time=   0.6s\n",
      "[CV] END .....R=0.0, alpha=0.0, bad_th=0.0, imprecise_th=0.8; total time=   0.7s\n",
      "[CV] END .....R=0.0, alpha=0.0, bad_th=0.0, imprecise_th=0.8; total time=   0.7s\n",
      "[CV] END .....R=0.0, alpha=0.0, bad_th=0.0, imprecise_th=0.8; total time=   0.6s\n",
      "[CV] END .....R=0.0, alpha=0.0, bad_th=0.0, imprecise_th=0.8; total time=   0.6s\n",
      "[CV] END .....R=0.0, alpha=0.0, bad_th=0.0, imprecise_th=0.9; total time=   0.6s\n",
      "[CV] END .....R=0.0, alpha=0.0, bad_th=0.0, imprecise_th=0.9; total time=   0.7s\n",
      "[CV] END .....R=0.0, alpha=0.0, bad_th=0.0, imprecise_th=0.9; total time=   0.6s\n",
      "[CV] END .....R=0.0, alpha=0.0, bad_th=0.0, imprecise_th=0.9; total time=   0.6s\n",
      "[CV] END .....R=0.0, alpha=0.0, bad_th=0.0, imprecise_th=0.9; total time=   0.6s\n",
      "[CV] END .....R=0.0, alpha=0.0, bad_th=0.0, imprecise_th=1.0; total time=   0.6s\n",
      "[CV] END .....R=0.0, alpha=0.0, bad_th=0.0, imprecise_th=1.0; total time=   0.6s\n",
      "[CV] END .....R=0.0, alpha=0.0, bad_th=0.0, imprecise_th=1.0; total time=   0.6s\n",
      "[CV] END .....R=0.0, alpha=0.0, bad_th=0.0, imprecise_th=1.0; total time=   0.6s\n",
      "[CV] END .....R=0.0, alpha=0.0, bad_th=0.0, imprecise_th=1.0; total time=   0.6s\n",
      "[CV] END .....R=0.0, alpha=0.0, bad_th=0.1, imprecise_th=0.0; total time=   0.6s\n",
      "[CV] END .....R=0.0, alpha=0.0, bad_th=0.1, imprecise_th=0.0; total time=   0.6s\n",
      "[CV] END .....R=0.0, alpha=0.0, bad_th=0.1, imprecise_th=0.0; total time=   0.6s\n",
      "[CV] END .....R=0.0, alpha=0.0, bad_th=0.1, imprecise_th=0.0; total time=   0.7s\n",
      "[CV] END .....R=0.0, alpha=0.0, bad_th=0.1, imprecise_th=0.0; total time=   0.6s\n",
      "[CV] END .....R=0.0, alpha=0.0, bad_th=0.1, imprecise_th=0.1; total time=   0.6s\n",
      "[CV] END .....R=0.0, alpha=0.0, bad_th=0.1, imprecise_th=0.1; total time=   0.7s\n",
      "[CV] END .....R=0.0, alpha=0.0, bad_th=0.1, imprecise_th=0.1; total time=   0.7s\n",
      "[CV] END .....R=0.0, alpha=0.0, bad_th=0.1, imprecise_th=0.1; total time=   0.6s\n",
      "[CV] END .....R=0.0, alpha=0.0, bad_th=0.1, imprecise_th=0.1; total time=   0.6s\n",
      "[CV] END .....R=0.0, alpha=0.0, bad_th=0.1, imprecise_th=0.2; total time=   0.6s\n",
      "[CV] END .....R=0.0, alpha=0.0, bad_th=0.1, imprecise_th=0.2; total time=   0.6s\n"
     ]
    },
    {
     "ename": "KeyboardInterrupt",
     "evalue": "",
     "output_type": "error",
     "traceback": [
      "\u001B[1;31m---------------------------------------------------------------------------\u001B[0m",
      "\u001B[1;31mKeyboardInterrupt\u001B[0m                         Traceback (most recent call last)",
      "Cell \u001B[1;32mIn[87], line 1\u001B[0m\n\u001B[1;32m----> 1\u001B[0m \u001B[43mgrid\u001B[49m\u001B[38;5;241;43m.\u001B[39;49m\u001B[43mfit\u001B[49m\u001B[43m(\u001B[49m\u001B[43mX_train\u001B[49m\u001B[43m,\u001B[49m\u001B[43m \u001B[49m\u001B[43my_train\u001B[49m\u001B[43m)\u001B[49m\n",
      "File \u001B[1;32m~\\venv\\Lib\\site-packages\\sklearn\\base.py:1474\u001B[0m, in \u001B[0;36m_fit_context.<locals>.decorator.<locals>.wrapper\u001B[1;34m(estimator, *args, **kwargs)\u001B[0m\n\u001B[0;32m   1467\u001B[0m     estimator\u001B[38;5;241m.\u001B[39m_validate_params()\n\u001B[0;32m   1469\u001B[0m \u001B[38;5;28;01mwith\u001B[39;00m config_context(\n\u001B[0;32m   1470\u001B[0m     skip_parameter_validation\u001B[38;5;241m=\u001B[39m(\n\u001B[0;32m   1471\u001B[0m         prefer_skip_nested_validation \u001B[38;5;129;01mor\u001B[39;00m global_skip_validation\n\u001B[0;32m   1472\u001B[0m     )\n\u001B[0;32m   1473\u001B[0m ):\n\u001B[1;32m-> 1474\u001B[0m     \u001B[38;5;28;01mreturn\u001B[39;00m \u001B[43mfit_method\u001B[49m\u001B[43m(\u001B[49m\u001B[43mestimator\u001B[49m\u001B[43m,\u001B[49m\u001B[43m \u001B[49m\u001B[38;5;241;43m*\u001B[39;49m\u001B[43margs\u001B[49m\u001B[43m,\u001B[49m\u001B[43m \u001B[49m\u001B[38;5;241;43m*\u001B[39;49m\u001B[38;5;241;43m*\u001B[39;49m\u001B[43mkwargs\u001B[49m\u001B[43m)\u001B[49m\n",
      "File \u001B[1;32m~\\venv\\Lib\\site-packages\\sklearn\\model_selection\\_search.py:970\u001B[0m, in \u001B[0;36mBaseSearchCV.fit\u001B[1;34m(self, X, y, **params)\u001B[0m\n\u001B[0;32m    964\u001B[0m     results \u001B[38;5;241m=\u001B[39m \u001B[38;5;28mself\u001B[39m\u001B[38;5;241m.\u001B[39m_format_results(\n\u001B[0;32m    965\u001B[0m         all_candidate_params, n_splits, all_out, all_more_results\n\u001B[0;32m    966\u001B[0m     )\n\u001B[0;32m    968\u001B[0m     \u001B[38;5;28;01mreturn\u001B[39;00m results\n\u001B[1;32m--> 970\u001B[0m \u001B[38;5;28;43mself\u001B[39;49m\u001B[38;5;241;43m.\u001B[39;49m\u001B[43m_run_search\u001B[49m\u001B[43m(\u001B[49m\u001B[43mevaluate_candidates\u001B[49m\u001B[43m)\u001B[49m\n\u001B[0;32m    972\u001B[0m \u001B[38;5;66;03m# multimetric is determined here because in the case of a callable\u001B[39;00m\n\u001B[0;32m    973\u001B[0m \u001B[38;5;66;03m# self.scoring the return type is only known after calling\u001B[39;00m\n\u001B[0;32m    974\u001B[0m first_test_score \u001B[38;5;241m=\u001B[39m all_out[\u001B[38;5;241m0\u001B[39m][\u001B[38;5;124m\"\u001B[39m\u001B[38;5;124mtest_scores\u001B[39m\u001B[38;5;124m\"\u001B[39m]\n",
      "File \u001B[1;32m~\\venv\\Lib\\site-packages\\sklearn\\model_selection\\_search.py:1527\u001B[0m, in \u001B[0;36mGridSearchCV._run_search\u001B[1;34m(self, evaluate_candidates)\u001B[0m\n\u001B[0;32m   1525\u001B[0m \u001B[38;5;28;01mdef\u001B[39;00m \u001B[38;5;21m_run_search\u001B[39m(\u001B[38;5;28mself\u001B[39m, evaluate_candidates):\n\u001B[0;32m   1526\u001B[0m \u001B[38;5;250m    \u001B[39m\u001B[38;5;124;03m\"\"\"Search all candidates in param_grid\"\"\"\u001B[39;00m\n\u001B[1;32m-> 1527\u001B[0m     \u001B[43mevaluate_candidates\u001B[49m\u001B[43m(\u001B[49m\u001B[43mParameterGrid\u001B[49m\u001B[43m(\u001B[49m\u001B[38;5;28;43mself\u001B[39;49m\u001B[38;5;241;43m.\u001B[39;49m\u001B[43mparam_grid\u001B[49m\u001B[43m)\u001B[49m\u001B[43m)\u001B[49m\n",
      "File \u001B[1;32m~\\venv\\Lib\\site-packages\\sklearn\\model_selection\\_search.py:916\u001B[0m, in \u001B[0;36mBaseSearchCV.fit.<locals>.evaluate_candidates\u001B[1;34m(candidate_params, cv, more_results)\u001B[0m\n\u001B[0;32m    908\u001B[0m \u001B[38;5;28;01mif\u001B[39;00m \u001B[38;5;28mself\u001B[39m\u001B[38;5;241m.\u001B[39mverbose \u001B[38;5;241m>\u001B[39m \u001B[38;5;241m0\u001B[39m:\n\u001B[0;32m    909\u001B[0m     \u001B[38;5;28mprint\u001B[39m(\n\u001B[0;32m    910\u001B[0m         \u001B[38;5;124m\"\u001B[39m\u001B[38;5;124mFitting \u001B[39m\u001B[38;5;132;01m{0}\u001B[39;00m\u001B[38;5;124m folds for each of \u001B[39m\u001B[38;5;132;01m{1}\u001B[39;00m\u001B[38;5;124m candidates,\u001B[39m\u001B[38;5;124m\"\u001B[39m\n\u001B[0;32m    911\u001B[0m         \u001B[38;5;124m\"\u001B[39m\u001B[38;5;124m totalling \u001B[39m\u001B[38;5;132;01m{2}\u001B[39;00m\u001B[38;5;124m fits\u001B[39m\u001B[38;5;124m\"\u001B[39m\u001B[38;5;241m.\u001B[39mformat(\n\u001B[0;32m    912\u001B[0m             n_splits, n_candidates, n_candidates \u001B[38;5;241m*\u001B[39m n_splits\n\u001B[0;32m    913\u001B[0m         )\n\u001B[0;32m    914\u001B[0m     )\n\u001B[1;32m--> 916\u001B[0m out \u001B[38;5;241m=\u001B[39m \u001B[43mparallel\u001B[49m\u001B[43m(\u001B[49m\n\u001B[0;32m    917\u001B[0m \u001B[43m    \u001B[49m\u001B[43mdelayed\u001B[49m\u001B[43m(\u001B[49m\u001B[43m_fit_and_score\u001B[49m\u001B[43m)\u001B[49m\u001B[43m(\u001B[49m\n\u001B[0;32m    918\u001B[0m \u001B[43m        \u001B[49m\u001B[43mclone\u001B[49m\u001B[43m(\u001B[49m\u001B[43mbase_estimator\u001B[49m\u001B[43m)\u001B[49m\u001B[43m,\u001B[49m\n\u001B[0;32m    919\u001B[0m \u001B[43m        \u001B[49m\u001B[43mX\u001B[49m\u001B[43m,\u001B[49m\n\u001B[0;32m    920\u001B[0m \u001B[43m        \u001B[49m\u001B[43my\u001B[49m\u001B[43m,\u001B[49m\n\u001B[0;32m    921\u001B[0m \u001B[43m        \u001B[49m\u001B[43mtrain\u001B[49m\u001B[38;5;241;43m=\u001B[39;49m\u001B[43mtrain\u001B[49m\u001B[43m,\u001B[49m\n\u001B[0;32m    922\u001B[0m \u001B[43m        \u001B[49m\u001B[43mtest\u001B[49m\u001B[38;5;241;43m=\u001B[39;49m\u001B[43mtest\u001B[49m\u001B[43m,\u001B[49m\n\u001B[0;32m    923\u001B[0m \u001B[43m        \u001B[49m\u001B[43mparameters\u001B[49m\u001B[38;5;241;43m=\u001B[39;49m\u001B[43mparameters\u001B[49m\u001B[43m,\u001B[49m\n\u001B[0;32m    924\u001B[0m \u001B[43m        \u001B[49m\u001B[43msplit_progress\u001B[49m\u001B[38;5;241;43m=\u001B[39;49m\u001B[43m(\u001B[49m\u001B[43msplit_idx\u001B[49m\u001B[43m,\u001B[49m\u001B[43m \u001B[49m\u001B[43mn_splits\u001B[49m\u001B[43m)\u001B[49m\u001B[43m,\u001B[49m\n\u001B[0;32m    925\u001B[0m \u001B[43m        \u001B[49m\u001B[43mcandidate_progress\u001B[49m\u001B[38;5;241;43m=\u001B[39;49m\u001B[43m(\u001B[49m\u001B[43mcand_idx\u001B[49m\u001B[43m,\u001B[49m\u001B[43m \u001B[49m\u001B[43mn_candidates\u001B[49m\u001B[43m)\u001B[49m\u001B[43m,\u001B[49m\n\u001B[0;32m    926\u001B[0m \u001B[43m        \u001B[49m\u001B[38;5;241;43m*\u001B[39;49m\u001B[38;5;241;43m*\u001B[39;49m\u001B[43mfit_and_score_kwargs\u001B[49m\u001B[43m,\u001B[49m\n\u001B[0;32m    927\u001B[0m \u001B[43m    \u001B[49m\u001B[43m)\u001B[49m\n\u001B[0;32m    928\u001B[0m \u001B[43m    \u001B[49m\u001B[38;5;28;43;01mfor\u001B[39;49;00m\u001B[43m \u001B[49m\u001B[43m(\u001B[49m\u001B[43mcand_idx\u001B[49m\u001B[43m,\u001B[49m\u001B[43m \u001B[49m\u001B[43mparameters\u001B[49m\u001B[43m)\u001B[49m\u001B[43m,\u001B[49m\u001B[43m \u001B[49m\u001B[43m(\u001B[49m\u001B[43msplit_idx\u001B[49m\u001B[43m,\u001B[49m\u001B[43m \u001B[49m\u001B[43m(\u001B[49m\u001B[43mtrain\u001B[49m\u001B[43m,\u001B[49m\u001B[43m \u001B[49m\u001B[43mtest\u001B[49m\u001B[43m)\u001B[49m\u001B[43m)\u001B[49m\u001B[43m \u001B[49m\u001B[38;5;129;43;01min\u001B[39;49;00m\u001B[43m \u001B[49m\u001B[43mproduct\u001B[49m\u001B[43m(\u001B[49m\n\u001B[0;32m    929\u001B[0m \u001B[43m        \u001B[49m\u001B[38;5;28;43menumerate\u001B[39;49m\u001B[43m(\u001B[49m\u001B[43mcandidate_params\u001B[49m\u001B[43m)\u001B[49m\u001B[43m,\u001B[49m\n\u001B[0;32m    930\u001B[0m \u001B[43m        \u001B[49m\u001B[38;5;28;43menumerate\u001B[39;49m\u001B[43m(\u001B[49m\u001B[43mcv\u001B[49m\u001B[38;5;241;43m.\u001B[39;49m\u001B[43msplit\u001B[49m\u001B[43m(\u001B[49m\u001B[43mX\u001B[49m\u001B[43m,\u001B[49m\u001B[43m \u001B[49m\u001B[43my\u001B[49m\u001B[43m,\u001B[49m\u001B[43m \u001B[49m\u001B[38;5;241;43m*\u001B[39;49m\u001B[38;5;241;43m*\u001B[39;49m\u001B[43mrouted_params\u001B[49m\u001B[38;5;241;43m.\u001B[39;49m\u001B[43msplitter\u001B[49m\u001B[38;5;241;43m.\u001B[39;49m\u001B[43msplit\u001B[49m\u001B[43m)\u001B[49m\u001B[43m)\u001B[49m\u001B[43m,\u001B[49m\n\u001B[0;32m    931\u001B[0m \u001B[43m    \u001B[49m\u001B[43m)\u001B[49m\n\u001B[0;32m    932\u001B[0m \u001B[43m\u001B[49m\u001B[43m)\u001B[49m\n\u001B[0;32m    934\u001B[0m \u001B[38;5;28;01mif\u001B[39;00m \u001B[38;5;28mlen\u001B[39m(out) \u001B[38;5;241m<\u001B[39m \u001B[38;5;241m1\u001B[39m:\n\u001B[0;32m    935\u001B[0m     \u001B[38;5;28;01mraise\u001B[39;00m \u001B[38;5;167;01mValueError\u001B[39;00m(\n\u001B[0;32m    936\u001B[0m         \u001B[38;5;124m\"\u001B[39m\u001B[38;5;124mNo fits were performed. \u001B[39m\u001B[38;5;124m\"\u001B[39m\n\u001B[0;32m    937\u001B[0m         \u001B[38;5;124m\"\u001B[39m\u001B[38;5;124mWas the CV iterator empty? \u001B[39m\u001B[38;5;124m\"\u001B[39m\n\u001B[0;32m    938\u001B[0m         \u001B[38;5;124m\"\u001B[39m\u001B[38;5;124mWere there no candidates?\u001B[39m\u001B[38;5;124m\"\u001B[39m\n\u001B[0;32m    939\u001B[0m     )\n",
      "File \u001B[1;32m~\\venv\\Lib\\site-packages\\sklearn\\utils\\parallel.py:67\u001B[0m, in \u001B[0;36mParallel.__call__\u001B[1;34m(self, iterable)\u001B[0m\n\u001B[0;32m     62\u001B[0m config \u001B[38;5;241m=\u001B[39m get_config()\n\u001B[0;32m     63\u001B[0m iterable_with_config \u001B[38;5;241m=\u001B[39m (\n\u001B[0;32m     64\u001B[0m     (_with_config(delayed_func, config), args, kwargs)\n\u001B[0;32m     65\u001B[0m     \u001B[38;5;28;01mfor\u001B[39;00m delayed_func, args, kwargs \u001B[38;5;129;01min\u001B[39;00m iterable\n\u001B[0;32m     66\u001B[0m )\n\u001B[1;32m---> 67\u001B[0m \u001B[38;5;28;01mreturn\u001B[39;00m \u001B[38;5;28;43msuper\u001B[39;49m\u001B[43m(\u001B[49m\u001B[43m)\u001B[49m\u001B[38;5;241;43m.\u001B[39;49m\u001B[38;5;21;43m__call__\u001B[39;49m\u001B[43m(\u001B[49m\u001B[43miterable_with_config\u001B[49m\u001B[43m)\u001B[49m\n",
      "File \u001B[1;32m~\\venv\\Lib\\site-packages\\joblib\\parallel.py:1918\u001B[0m, in \u001B[0;36mParallel.__call__\u001B[1;34m(self, iterable)\u001B[0m\n\u001B[0;32m   1916\u001B[0m     output \u001B[38;5;241m=\u001B[39m \u001B[38;5;28mself\u001B[39m\u001B[38;5;241m.\u001B[39m_get_sequential_output(iterable)\n\u001B[0;32m   1917\u001B[0m     \u001B[38;5;28mnext\u001B[39m(output)\n\u001B[1;32m-> 1918\u001B[0m     \u001B[38;5;28;01mreturn\u001B[39;00m output \u001B[38;5;28;01mif\u001B[39;00m \u001B[38;5;28mself\u001B[39m\u001B[38;5;241m.\u001B[39mreturn_generator \u001B[38;5;28;01melse\u001B[39;00m \u001B[38;5;28;43mlist\u001B[39;49m\u001B[43m(\u001B[49m\u001B[43moutput\u001B[49m\u001B[43m)\u001B[49m\n\u001B[0;32m   1920\u001B[0m \u001B[38;5;66;03m# Let's create an ID that uniquely identifies the current call. If the\u001B[39;00m\n\u001B[0;32m   1921\u001B[0m \u001B[38;5;66;03m# call is interrupted early and that the same instance is immediately\u001B[39;00m\n\u001B[0;32m   1922\u001B[0m \u001B[38;5;66;03m# re-used, this id will be used to prevent workers that were\u001B[39;00m\n\u001B[0;32m   1923\u001B[0m \u001B[38;5;66;03m# concurrently finalizing a task from the previous call to run the\u001B[39;00m\n\u001B[0;32m   1924\u001B[0m \u001B[38;5;66;03m# callback.\u001B[39;00m\n\u001B[0;32m   1925\u001B[0m \u001B[38;5;28;01mwith\u001B[39;00m \u001B[38;5;28mself\u001B[39m\u001B[38;5;241m.\u001B[39m_lock:\n",
      "File \u001B[1;32m~\\venv\\Lib\\site-packages\\joblib\\parallel.py:1847\u001B[0m, in \u001B[0;36mParallel._get_sequential_output\u001B[1;34m(self, iterable)\u001B[0m\n\u001B[0;32m   1845\u001B[0m \u001B[38;5;28mself\u001B[39m\u001B[38;5;241m.\u001B[39mn_dispatched_batches \u001B[38;5;241m+\u001B[39m\u001B[38;5;241m=\u001B[39m \u001B[38;5;241m1\u001B[39m\n\u001B[0;32m   1846\u001B[0m \u001B[38;5;28mself\u001B[39m\u001B[38;5;241m.\u001B[39mn_dispatched_tasks \u001B[38;5;241m+\u001B[39m\u001B[38;5;241m=\u001B[39m \u001B[38;5;241m1\u001B[39m\n\u001B[1;32m-> 1847\u001B[0m res \u001B[38;5;241m=\u001B[39m \u001B[43mfunc\u001B[49m\u001B[43m(\u001B[49m\u001B[38;5;241;43m*\u001B[39;49m\u001B[43margs\u001B[49m\u001B[43m,\u001B[49m\u001B[43m \u001B[49m\u001B[38;5;241;43m*\u001B[39;49m\u001B[38;5;241;43m*\u001B[39;49m\u001B[43mkwargs\u001B[49m\u001B[43m)\u001B[49m\n\u001B[0;32m   1848\u001B[0m \u001B[38;5;28mself\u001B[39m\u001B[38;5;241m.\u001B[39mn_completed_tasks \u001B[38;5;241m+\u001B[39m\u001B[38;5;241m=\u001B[39m \u001B[38;5;241m1\u001B[39m\n\u001B[0;32m   1849\u001B[0m \u001B[38;5;28mself\u001B[39m\u001B[38;5;241m.\u001B[39mprint_progress()\n",
      "File \u001B[1;32m~\\venv\\Lib\\site-packages\\sklearn\\utils\\parallel.py:129\u001B[0m, in \u001B[0;36m_FuncWrapper.__call__\u001B[1;34m(self, *args, **kwargs)\u001B[0m\n\u001B[0;32m    127\u001B[0m     config \u001B[38;5;241m=\u001B[39m {}\n\u001B[0;32m    128\u001B[0m \u001B[38;5;28;01mwith\u001B[39;00m config_context(\u001B[38;5;241m*\u001B[39m\u001B[38;5;241m*\u001B[39mconfig):\n\u001B[1;32m--> 129\u001B[0m     \u001B[38;5;28;01mreturn\u001B[39;00m \u001B[38;5;28;43mself\u001B[39;49m\u001B[38;5;241;43m.\u001B[39;49m\u001B[43mfunction\u001B[49m\u001B[43m(\u001B[49m\u001B[38;5;241;43m*\u001B[39;49m\u001B[43margs\u001B[49m\u001B[43m,\u001B[49m\u001B[43m \u001B[49m\u001B[38;5;241;43m*\u001B[39;49m\u001B[38;5;241;43m*\u001B[39;49m\u001B[43mkwargs\u001B[49m\u001B[43m)\u001B[49m\n",
      "File \u001B[1;32m~\\venv\\Lib\\site-packages\\sklearn\\model_selection\\_validation.py:895\u001B[0m, in \u001B[0;36m_fit_and_score\u001B[1;34m(estimator, X, y, scorer, train, test, verbose, parameters, fit_params, score_params, return_train_score, return_parameters, return_n_test_samples, return_times, return_estimator, split_progress, candidate_progress, error_score)\u001B[0m\n\u001B[0;32m    893\u001B[0m         estimator\u001B[38;5;241m.\u001B[39mfit(X_train, \u001B[38;5;241m*\u001B[39m\u001B[38;5;241m*\u001B[39mfit_params)\n\u001B[0;32m    894\u001B[0m     \u001B[38;5;28;01melse\u001B[39;00m:\n\u001B[1;32m--> 895\u001B[0m         \u001B[43mestimator\u001B[49m\u001B[38;5;241;43m.\u001B[39;49m\u001B[43mfit\u001B[49m\u001B[43m(\u001B[49m\u001B[43mX_train\u001B[49m\u001B[43m,\u001B[49m\u001B[43m \u001B[49m\u001B[43my_train\u001B[49m\u001B[43m,\u001B[49m\u001B[43m \u001B[49m\u001B[38;5;241;43m*\u001B[39;49m\u001B[38;5;241;43m*\u001B[39;49m\u001B[43mfit_params\u001B[49m\u001B[43m)\u001B[49m\n\u001B[0;32m    897\u001B[0m \u001B[38;5;28;01mexcept\u001B[39;00m \u001B[38;5;167;01mException\u001B[39;00m:\n\u001B[0;32m    898\u001B[0m     \u001B[38;5;66;03m# Note fit time as time until error\u001B[39;00m\n\u001B[0;32m    899\u001B[0m     fit_time \u001B[38;5;241m=\u001B[39m time\u001B[38;5;241m.\u001B[39mtime() \u001B[38;5;241m-\u001B[39m start_time\n",
      "File \u001B[1;32m~\\PycharmProjects\\ciel\\torch_mas\\ciel.py:46\u001B[0m, in \u001B[0;36mCiel.fit\u001B[1;34m(self, X, y)\u001B[0m\n\u001B[0;32m     45\u001B[0m \u001B[38;5;28;01mdef\u001B[39;00m \u001B[38;5;21mfit\u001B[39m(\u001B[38;5;28mself\u001B[39m, X, y):\n\u001B[1;32m---> 46\u001B[0m     \u001B[38;5;28;01mreturn\u001B[39;00m \u001B[38;5;28;43mself\u001B[39;49m\u001B[38;5;241;43m.\u001B[39;49m\u001B[43mestimator\u001B[49m\u001B[38;5;241;43m.\u001B[39;49m\u001B[43mfit\u001B[49m\u001B[43m(\u001B[49m\u001B[43mDataBuffer\u001B[49m\u001B[43m(\u001B[49m\u001B[43mX\u001B[49m\u001B[43m,\u001B[49m\u001B[43m \u001B[49m\u001B[43my\u001B[49m\u001B[43m)\u001B[49m\u001B[43m)\u001B[49m\n",
      "File \u001B[1;32m~\\PycharmProjects\\ciel\\torch_mas\\head.py:142\u001B[0m, in \u001B[0;36mHead.fit\u001B[1;34m(self, dataset)\u001B[0m\n\u001B[0;32m    140\u001B[0m \u001B[38;5;28;01mfor\u001B[39;00m idx \u001B[38;5;129;01min\u001B[39;00m idxs:\n\u001B[0;32m    141\u001B[0m     X, y \u001B[38;5;241m=\u001B[39m dataset[torch\u001B[38;5;241m.\u001B[39mLongTensor([idx])]\n\u001B[1;32m--> 142\u001B[0m     \u001B[38;5;28;43mself\u001B[39;49m\u001B[38;5;241;43m.\u001B[39;49m\u001B[43mpartial_fit\u001B[49m\u001B[43m(\u001B[49m\u001B[43mX\u001B[49m\u001B[43m,\u001B[49m\u001B[43m \u001B[49m\u001B[43my\u001B[49m\u001B[43m)\u001B[49m\n",
      "File \u001B[1;32m~\\PycharmProjects\\ciel\\torch_mas\\head.py:73\u001B[0m, in \u001B[0;36mHead.partial_fit\u001B[1;34m(self, X, y)\u001B[0m\n\u001B[0;32m     70\u001B[0m     agents_to_update \u001B[38;5;241m=\u001B[39m torch\u001B[38;5;241m.\u001B[39mconcat([agents_to_update, created_idxs])\n\u001B[0;32m     72\u001B[0m \u001B[38;5;28;01mif\u001B[39;00m n_activated \u001B[38;5;241m==\u001B[39m \u001B[38;5;241m0\u001B[39m \u001B[38;5;129;01mand\u001B[39;00m n_neighbors \u001B[38;5;241m>\u001B[39m \u001B[38;5;241m0\u001B[39m:\n\u001B[1;32m---> 73\u001B[0m     expanded_neighbors \u001B[38;5;241m=\u001B[39m \u001B[43mbatch_update_hypercube\u001B[49m\u001B[43m(\u001B[49m\n\u001B[0;32m     74\u001B[0m \u001B[43m        \u001B[49m\u001B[38;5;28;43mself\u001B[39;49m\u001B[38;5;241;43m.\u001B[39;49m\u001B[43magents\u001B[49m\u001B[38;5;241;43m.\u001B[39;49m\u001B[43mhypercubes\u001B[49m\u001B[43m[\u001B[49m\u001B[43mneighborhood_agents\u001B[49m\u001B[43m]\u001B[49m\u001B[43m,\u001B[49m\n\u001B[0;32m     75\u001B[0m \u001B[43m        \u001B[49m\u001B[43mX\u001B[49m\u001B[38;5;241;43m.\u001B[39;49m\u001B[43msqueeze\u001B[49m\u001B[43m(\u001B[49m\u001B[38;5;241;43m0\u001B[39;49m\u001B[43m)\u001B[49m\u001B[43m,\u001B[49m\n\u001B[0;32m     76\u001B[0m \u001B[43m        \u001B[49m\u001B[43mtorch\u001B[49m\u001B[38;5;241;43m.\u001B[39;49m\u001B[43mfull\u001B[49m\u001B[43m(\u001B[49m\u001B[43m(\u001B[49m\u001B[43mn_neighbors\u001B[49m\u001B[43m,\u001B[49m\u001B[43m)\u001B[49m\u001B[43m,\u001B[49m\u001B[43m \u001B[49m\u001B[38;5;28;43mself\u001B[39;49m\u001B[38;5;241;43m.\u001B[39;49m\u001B[43malpha\u001B[49m\u001B[43m)\u001B[49m\u001B[43m,\u001B[49m\n\u001B[0;32m     77\u001B[0m \u001B[43m    \u001B[49m\u001B[43m)\u001B[49m\n\u001B[0;32m     78\u001B[0m     expanded_mask \u001B[38;5;241m=\u001B[39m batch_intersect_point(expanded_neighbors, X)\n\u001B[0;32m     79\u001B[0m     expanded_idxs \u001B[38;5;241m=\u001B[39m torch\u001B[38;5;241m.\u001B[39marange(\u001B[38;5;28mself\u001B[39m\u001B[38;5;241m.\u001B[39magents\u001B[38;5;241m.\u001B[39mn_agents)[neighborhood_agents][\n\u001B[0;32m     80\u001B[0m         expanded_mask\n\u001B[0;32m     81\u001B[0m     ]\n",
      "File \u001B[1;32m~\\PycharmProjects\\ciel\\torch_mas\\hypercubes.py:175\u001B[0m, in \u001B[0;36mbatch_update_hypercube\u001B[1;34m(hypercubes, x, alphas)\u001B[0m\n\u001B[0;32m    163\u001B[0m \u001B[38;5;28;01mdef\u001B[39;00m \u001B[38;5;21mbatch_update_hypercube\u001B[39m(hypercubes, x, alphas):\n\u001B[0;32m    164\u001B[0m \u001B[38;5;250m    \u001B[39m\u001B[38;5;124;03m\"\"\"Updates a batch of hypercubes towards x, modifying its sides so that the final volume\u001B[39;00m\n\u001B[0;32m    165\u001B[0m \u001B[38;5;124;03m    is change by a factor alpha.\u001B[39;00m\n\u001B[0;32m    166\u001B[0m \n\u001B[1;32m   (...)\u001B[0m\n\u001B[0;32m    173\u001B[0m \u001B[38;5;124;03m        Tensor: (batch_size, n_dim, 2)\u001B[39;00m\n\u001B[0;32m    174\u001B[0m \u001B[38;5;124;03m    \"\"\"\u001B[39;00m\n\u001B[1;32m--> 175\u001B[0m     \u001B[38;5;28;01mreturn\u001B[39;00m \u001B[43m_batch_update_hypercube\u001B[49m\u001B[43m(\u001B[49m\u001B[43mhypercubes\u001B[49m\u001B[43m,\u001B[49m\u001B[43m \u001B[49m\u001B[43mx\u001B[49m\u001B[43m,\u001B[49m\u001B[43m \u001B[49m\u001B[43malphas\u001B[49m\u001B[43m)\u001B[49m\n",
      "File \u001B[1;32m~\\venv\\Lib\\site-packages\\torch\\_functorch\\apis.py:188\u001B[0m, in \u001B[0;36mvmap.<locals>.wrapped\u001B[1;34m(*args, **kwargs)\u001B[0m\n\u001B[0;32m    187\u001B[0m \u001B[38;5;28;01mdef\u001B[39;00m \u001B[38;5;21mwrapped\u001B[39m(\u001B[38;5;241m*\u001B[39margs, \u001B[38;5;241m*\u001B[39m\u001B[38;5;241m*\u001B[39mkwargs):\n\u001B[1;32m--> 188\u001B[0m     \u001B[38;5;28;01mreturn\u001B[39;00m \u001B[43mvmap_impl\u001B[49m\u001B[43m(\u001B[49m\u001B[43mfunc\u001B[49m\u001B[43m,\u001B[49m\u001B[43m \u001B[49m\u001B[43min_dims\u001B[49m\u001B[43m,\u001B[49m\u001B[43m \u001B[49m\u001B[43mout_dims\u001B[49m\u001B[43m,\u001B[49m\u001B[43m \u001B[49m\u001B[43mrandomness\u001B[49m\u001B[43m,\u001B[49m\u001B[43m \u001B[49m\u001B[43mchunk_size\u001B[49m\u001B[43m,\u001B[49m\u001B[43m \u001B[49m\u001B[38;5;241;43m*\u001B[39;49m\u001B[43margs\u001B[49m\u001B[43m,\u001B[49m\u001B[43m \u001B[49m\u001B[38;5;241;43m*\u001B[39;49m\u001B[38;5;241;43m*\u001B[39;49m\u001B[43mkwargs\u001B[49m\u001B[43m)\u001B[49m\n",
      "File \u001B[1;32m~\\venv\\Lib\\site-packages\\torch\\_functorch\\vmap.py:281\u001B[0m, in \u001B[0;36mvmap_impl\u001B[1;34m(func, in_dims, out_dims, randomness, chunk_size, *args, **kwargs)\u001B[0m\n\u001B[0;32m    277\u001B[0m     \u001B[38;5;28;01mreturn\u001B[39;00m _chunked_vmap(func, flat_in_dims, chunks_flat_args,\n\u001B[0;32m    278\u001B[0m                          args_spec, out_dims, randomness, \u001B[38;5;241m*\u001B[39m\u001B[38;5;241m*\u001B[39mkwargs)\n\u001B[0;32m    280\u001B[0m \u001B[38;5;66;03m# If chunk_size is not specified.\u001B[39;00m\n\u001B[1;32m--> 281\u001B[0m \u001B[38;5;28;01mreturn\u001B[39;00m \u001B[43m_flat_vmap\u001B[49m\u001B[43m(\u001B[49m\n\u001B[0;32m    282\u001B[0m \u001B[43m    \u001B[49m\u001B[43mfunc\u001B[49m\u001B[43m,\u001B[49m\u001B[43m \u001B[49m\u001B[43mbatch_size\u001B[49m\u001B[43m,\u001B[49m\u001B[43m \u001B[49m\u001B[43mflat_in_dims\u001B[49m\u001B[43m,\u001B[49m\u001B[43m \u001B[49m\u001B[43mflat_args\u001B[49m\u001B[43m,\u001B[49m\u001B[43m \u001B[49m\u001B[43margs_spec\u001B[49m\u001B[43m,\u001B[49m\u001B[43m \u001B[49m\u001B[43mout_dims\u001B[49m\u001B[43m,\u001B[49m\u001B[43m \u001B[49m\u001B[43mrandomness\u001B[49m\u001B[43m,\u001B[49m\u001B[43m \u001B[49m\u001B[38;5;241;43m*\u001B[39;49m\u001B[38;5;241;43m*\u001B[39;49m\u001B[43mkwargs\u001B[49m\n\u001B[0;32m    283\u001B[0m \u001B[43m\u001B[49m\u001B[43m)\u001B[49m\n",
      "File \u001B[1;32m~\\venv\\Lib\\site-packages\\torch\\_functorch\\vmap.py:47\u001B[0m, in \u001B[0;36mdoesnt_support_saved_tensors_hooks.<locals>.fn\u001B[1;34m(*args, **kwargs)\u001B[0m\n\u001B[0;32m     44\u001B[0m \u001B[38;5;129m@functools\u001B[39m\u001B[38;5;241m.\u001B[39mwraps(f)\n\u001B[0;32m     45\u001B[0m \u001B[38;5;28;01mdef\u001B[39;00m \u001B[38;5;21mfn\u001B[39m(\u001B[38;5;241m*\u001B[39margs, \u001B[38;5;241m*\u001B[39m\u001B[38;5;241m*\u001B[39mkwargs):\n\u001B[0;32m     46\u001B[0m     \u001B[38;5;28;01mwith\u001B[39;00m torch\u001B[38;5;241m.\u001B[39mautograd\u001B[38;5;241m.\u001B[39mgraph\u001B[38;5;241m.\u001B[39mdisable_saved_tensors_hooks(message):\n\u001B[1;32m---> 47\u001B[0m         \u001B[38;5;28;01mreturn\u001B[39;00m \u001B[43mf\u001B[49m\u001B[43m(\u001B[49m\u001B[38;5;241;43m*\u001B[39;49m\u001B[43margs\u001B[49m\u001B[43m,\u001B[49m\u001B[43m \u001B[49m\u001B[38;5;241;43m*\u001B[39;49m\u001B[38;5;241;43m*\u001B[39;49m\u001B[43mkwargs\u001B[49m\u001B[43m)\u001B[49m\n",
      "File \u001B[1;32m~\\venv\\Lib\\site-packages\\torch\\_functorch\\vmap.py:403\u001B[0m, in \u001B[0;36m_flat_vmap\u001B[1;34m(func, batch_size, flat_in_dims, flat_args, args_spec, out_dims, randomness, **kwargs)\u001B[0m\n\u001B[0;32m    401\u001B[0m \u001B[38;5;28;01mwith\u001B[39;00m vmap_increment_nesting(batch_size, randomness) \u001B[38;5;28;01mas\u001B[39;00m vmap_level:\n\u001B[0;32m    402\u001B[0m     batched_inputs \u001B[38;5;241m=\u001B[39m _create_batched_inputs(flat_in_dims, flat_args, vmap_level, args_spec)\n\u001B[1;32m--> 403\u001B[0m     batched_outputs \u001B[38;5;241m=\u001B[39m \u001B[43mfunc\u001B[49m\u001B[43m(\u001B[49m\u001B[38;5;241;43m*\u001B[39;49m\u001B[43mbatched_inputs\u001B[49m\u001B[43m,\u001B[49m\u001B[43m \u001B[49m\u001B[38;5;241;43m*\u001B[39;49m\u001B[38;5;241;43m*\u001B[39;49m\u001B[43mkwargs\u001B[49m\u001B[43m)\u001B[49m\n\u001B[0;32m    404\u001B[0m     \u001B[38;5;28;01mreturn\u001B[39;00m _unwrap_batched(batched_outputs, out_dims, vmap_level, batch_size, func)\n",
      "File \u001B[1;32m~\\PycharmProjects\\ciel\\torch_mas\\hypercubes.py:147\u001B[0m, in \u001B[0;36mupdate_hypercube\u001B[1;34m(hypercube, x, alpha)\u001B[0m\n\u001B[0;32m    145\u001B[0m theta \u001B[38;5;241m=\u001B[39m torch\u001B[38;5;241m.\u001B[39msum(dims_mask)\n\u001B[0;32m    146\u001B[0m diff \u001B[38;5;241m=\u001B[39m high \u001B[38;5;241m-\u001B[39m low\n\u001B[1;32m--> 147\u001B[0m new_high \u001B[38;5;241m=\u001B[39m diff \u001B[38;5;241m*\u001B[39m torch\u001B[38;5;241m.\u001B[39mpow(\u001B[38;5;241m1\u001B[39m \u001B[38;5;241m+\u001B[39m alpha, \u001B[38;5;241;43m1\u001B[39;49m\u001B[43m \u001B[49m\u001B[38;5;241;43m/\u001B[39;49m\u001B[43m \u001B[49m\u001B[43mtheta\u001B[49m) \u001B[38;5;241m+\u001B[39m low\n\u001B[0;32m    148\u001B[0m new_low \u001B[38;5;241m=\u001B[39m high \u001B[38;5;241m-\u001B[39m diff \u001B[38;5;241m*\u001B[39m torch\u001B[38;5;241m.\u001B[39mpow(\u001B[38;5;241m1\u001B[39m \u001B[38;5;241m+\u001B[39m alpha, \u001B[38;5;241m1\u001B[39m \u001B[38;5;241m/\u001B[39m theta)\n\u001B[0;32m    150\u001B[0m dist_low \u001B[38;5;241m=\u001B[39m torch\u001B[38;5;241m.\u001B[39mabs(low \u001B[38;5;241m-\u001B[39m x)\n",
      "File \u001B[1;32m~\\venv\\Lib\\site-packages\\torch\\_tensor.py:40\u001B[0m, in \u001B[0;36m_handle_torch_function_and_wrap_type_error_to_not_implemented.<locals>.wrapped\u001B[1;34m(*args, **kwargs)\u001B[0m\n\u001B[0;32m     38\u001B[0m     \u001B[38;5;28;01mif\u001B[39;00m has_torch_function(args):\n\u001B[0;32m     39\u001B[0m         \u001B[38;5;28;01mreturn\u001B[39;00m handle_torch_function(wrapped, args, \u001B[38;5;241m*\u001B[39margs, \u001B[38;5;241m*\u001B[39m\u001B[38;5;241m*\u001B[39mkwargs)\n\u001B[1;32m---> 40\u001B[0m     \u001B[38;5;28;01mreturn\u001B[39;00m \u001B[43mf\u001B[49m\u001B[43m(\u001B[49m\u001B[38;5;241;43m*\u001B[39;49m\u001B[43margs\u001B[49m\u001B[43m,\u001B[49m\u001B[43m \u001B[49m\u001B[38;5;241;43m*\u001B[39;49m\u001B[38;5;241;43m*\u001B[39;49m\u001B[43mkwargs\u001B[49m\u001B[43m)\u001B[49m\n\u001B[0;32m     41\u001B[0m \u001B[38;5;28;01mexcept\u001B[39;00m \u001B[38;5;167;01mTypeError\u001B[39;00m:\n\u001B[0;32m     42\u001B[0m     \u001B[38;5;28;01mreturn\u001B[39;00m \u001B[38;5;28mNotImplemented\u001B[39m\n",
      "File \u001B[1;32m~\\venv\\Lib\\site-packages\\torch\\_tensor.py:970\u001B[0m, in \u001B[0;36mTensor.__rdiv__\u001B[1;34m(self, other)\u001B[0m\n\u001B[0;32m    968\u001B[0m \u001B[38;5;129m@_handle_torch_function_and_wrap_type_error_to_not_implemented\u001B[39m\n\u001B[0;32m    969\u001B[0m \u001B[38;5;28;01mdef\u001B[39;00m \u001B[38;5;21m__rdiv__\u001B[39m(\u001B[38;5;28mself\u001B[39m, other):\n\u001B[1;32m--> 970\u001B[0m     \u001B[38;5;28;01mreturn\u001B[39;00m \u001B[38;5;28;43mself\u001B[39;49m\u001B[38;5;241;43m.\u001B[39;49m\u001B[43mreciprocal\u001B[49m\u001B[43m(\u001B[49m\u001B[43m)\u001B[49m \u001B[38;5;241m*\u001B[39m other\n",
      "\u001B[1;31mKeyboardInterrupt\u001B[0m: "
     ]
    }
   ],
   "execution_count": 87
  },
  {
   "metadata": {},
   "cell_type": "code",
   "source": "print(grid.best_params_)",
   "id": "eb0a775026cbc4d7",
   "outputs": [],
   "execution_count": null
  }
 ],
 "metadata": {
  "kernelspec": {
   "display_name": "Python 3",
   "language": "python",
   "name": "python3"
  },
  "language_info": {
   "codemirror_mode": {
    "name": "ipython",
    "version": 2
   },
   "file_extension": ".py",
   "mimetype": "text/x-python",
   "name": "python",
   "nbconvert_exporter": "python",
   "pygments_lexer": "ipython2",
   "version": "2.7.6"
  }
 },
 "nbformat": 4,
 "nbformat_minor": 5
}
