{
 "cells": [
  {
   "cell_type": "code",
   "execution_count": 1,
   "metadata": {},
   "outputs": [],
   "source": [
    "%load_ext autoreload\n",
    "%autoreload 2"
   ]
  },
  {
   "cell_type": "code",
   "execution_count": 2,
   "metadata": {},
   "outputs": [],
   "source": [
    "import pandas as pd\n",
    "from sklearn.metrics import classification_report\n",
    "from sklearn.model_selection import train_test_split, GridSearchCV\n",
    "from sklearn import datasets\n",
    "from torch_mas.ciel import Ciel\n",
    "from torch_mas.agents.agents_linear_reg import AgentsLinear\n",
    "from torch_mas.agents.sgd_agents_linear_svm import AgentsLSVM\n",
    "import torch\n",
    "import matplotlib.pyplot as plt\n",
    "\n",
    "from sklearn.preprocessing import StandardScaler\n",
    "\n",
    "import numpy as np\n",
    "\n",
    "from xgboost import XGBClassifier"
   ]
  },
  {
   "cell_type": "code",
   "execution_count": 3,
   "metadata": {},
   "outputs": [],
   "source": [
    "from matplotlib.patches import Rectangle\n",
    "\n",
    "def plot_hypercubes(ax, hypercubes: torch.Tensor, base_prediction: torch.Tensor, colors, alpha=0.4):\n",
    "\n",
    "    for h, bp in zip(hypercubes,base_prediction):\n",
    "        low, high = h[:, 0], h[:, 1]\n",
    "        side_lengths = high - low\n",
    "\n",
    "        patch = Rectangle(low, side_lengths[0], side_lengths[1], facecolor=colors[bp], alpha=alpha)\n",
    "        ax.add_patch(patch)"
   ]
  },
  {
   "cell_type": "code",
   "execution_count": 4,
   "metadata": {},
   "outputs": [],
   "source": [
    "# Full dataset can be downloaded here : https://archive.ics.uci.edu/ml/machine-learning-databases/00280/HIGGS.csv.gz\n",
    "df = pd.read_csv('small_HIGGS.csv',header=None)"
   ]
  },
  {
   "cell_type": "code",
   "execution_count": 5,
   "metadata": {},
   "outputs": [
    {
     "data": {
      "text/html": [
       "<div>\n",
       "<style scoped>\n",
       "    .dataframe tbody tr th:only-of-type {\n",
       "        vertical-align: middle;\n",
       "    }\n",
       "\n",
       "    .dataframe tbody tr th {\n",
       "        vertical-align: top;\n",
       "    }\n",
       "\n",
       "    .dataframe thead th {\n",
       "        text-align: right;\n",
       "    }\n",
       "</style>\n",
       "<table border=\"1\" class=\"dataframe\">\n",
       "  <thead>\n",
       "    <tr style=\"text-align: right;\">\n",
       "      <th></th>\n",
       "      <th>0</th>\n",
       "      <th>1</th>\n",
       "      <th>2</th>\n",
       "    </tr>\n",
       "  </thead>\n",
       "  <tbody>\n",
       "    <tr>\n",
       "      <th>0</th>\n",
       "      <td>1.0</td>\n",
       "      <td>0.869293</td>\n",
       "      <td>-0.635082</td>\n",
       "    </tr>\n",
       "    <tr>\n",
       "      <th>1</th>\n",
       "      <td>1.0</td>\n",
       "      <td>0.907542</td>\n",
       "      <td>0.329147</td>\n",
       "    </tr>\n",
       "    <tr>\n",
       "      <th>2</th>\n",
       "      <td>1.0</td>\n",
       "      <td>0.798835</td>\n",
       "      <td>1.470639</td>\n",
       "    </tr>\n",
       "    <tr>\n",
       "      <th>3</th>\n",
       "      <td>0.0</td>\n",
       "      <td>1.344385</td>\n",
       "      <td>-0.876626</td>\n",
       "    </tr>\n",
       "    <tr>\n",
       "      <th>4</th>\n",
       "      <td>1.0</td>\n",
       "      <td>1.105009</td>\n",
       "      <td>0.321356</td>\n",
       "    </tr>\n",
       "    <tr>\n",
       "      <th>...</th>\n",
       "      <td>...</td>\n",
       "      <td>...</td>\n",
       "      <td>...</td>\n",
       "    </tr>\n",
       "    <tr>\n",
       "      <th>995</th>\n",
       "      <td>1.0</td>\n",
       "      <td>1.062917</td>\n",
       "      <td>-1.308094</td>\n",
       "    </tr>\n",
       "    <tr>\n",
       "      <th>996</th>\n",
       "      <td>1.0</td>\n",
       "      <td>0.687931</td>\n",
       "      <td>-0.765594</td>\n",
       "    </tr>\n",
       "    <tr>\n",
       "      <th>997</th>\n",
       "      <td>0.0</td>\n",
       "      <td>0.481497</td>\n",
       "      <td>-0.444184</td>\n",
       "    </tr>\n",
       "    <tr>\n",
       "      <th>998</th>\n",
       "      <td>1.0</td>\n",
       "      <td>0.564766</td>\n",
       "      <td>0.262917</td>\n",
       "    </tr>\n",
       "    <tr>\n",
       "      <th>999</th>\n",
       "      <td>1.0</td>\n",
       "      <td>0.441052</td>\n",
       "      <td>0.801522</td>\n",
       "    </tr>\n",
       "  </tbody>\n",
       "</table>\n",
       "<p>1000 rows × 3 columns</p>\n",
       "</div>"
      ],
      "text/plain": [
       "       0         1         2\n",
       "0    1.0  0.869293 -0.635082\n",
       "1    1.0  0.907542  0.329147\n",
       "2    1.0  0.798835  1.470639\n",
       "3    0.0  1.344385 -0.876626\n",
       "4    1.0  1.105009  0.321356\n",
       "..   ...       ...       ...\n",
       "995  1.0  1.062917 -1.308094\n",
       "996  1.0  0.687931 -0.765594\n",
       "997  0.0  0.481497 -0.444184\n",
       "998  1.0  0.564766  0.262917\n",
       "999  1.0  0.441052  0.801522\n",
       "\n",
       "[1000 rows x 3 columns]"
      ]
     },
     "execution_count": 5,
     "metadata": {},
     "output_type": "execute_result"
    }
   ],
   "source": [
    "df"
   ]
  },
  {
   "cell_type": "code",
   "execution_count": 6,
   "metadata": {},
   "outputs": [],
   "source": [
    "X_train, X_test, y_train, y_test = train_test_split(df[df.columns[1:]], df[df.columns[0]], random_state=0)\n",
    "\n",
    "scl = StandardScaler().fit(X_train)\n",
    "X_train = scl.transform(X_train.to_numpy())\n",
    "X_test = scl.transform(X_test.to_numpy())\n",
    "\n",
    "y_train_svm = np.where(y_train == 0,-1,1)\n",
    "y_test_svm = np.where(y_test == 0,-1,1)"
   ]
  },
  {
   "cell_type": "markdown",
   "metadata": {},
   "source": [
    "### Rounded linear regression"
   ]
  },
  {
   "cell_type": "code",
   "execution_count": 18,
   "metadata": {},
   "outputs": [
    {
     "name": "stdout",
     "output_type": "stream",
     "text": [
      "              precision    recall  f1-score   support\n",
      "\n",
      "           0       0.52      0.46      0.49       117\n",
      "           1       0.56      0.41      0.47       133\n",
      "\n",
      "   micro avg       0.54      0.43      0.48       250\n",
      "   macro avg       0.54      0.43      0.48       250\n",
      "weighted avg       0.54      0.43      0.48       250\n",
      "\n"
     ]
    }
   ],
   "source": [
    "re = Ciel(\n",
    "    2, \n",
    "    1, \n",
    "    R=0.5,\n",
    "    imprecise_th=0.5,\n",
    "    bad_th=0.0015,\n",
    "    alpha=0.5,\n",
    "    memory_length=5,\n",
    "    n_epochs=5,\n",
    "    agents=AgentsLinear\n",
    "    )\n",
    "\n",
    "re.fit(X_train, y_train.to_numpy())\n",
    "y_pred = re.predict(X_test)\n",
    "print(classification_report(y_test.round(), y_pred.round(),labels=[0,1]))"
   ]
  },
  {
   "cell_type": "markdown",
   "metadata": {},
   "source": [
    "### SVM"
   ]
  },
  {
   "cell_type": "code",
   "execution_count": 21,
   "metadata": {},
   "outputs": [
    {
     "name": "stdout",
     "output_type": "stream",
     "text": [
      "              precision    recall  f1-score   support\n",
      "\n",
      "          -1       0.43      0.38      0.41       117\n",
      "           1       0.50      0.55      0.53       133\n",
      "\n",
      "    accuracy                           0.47       250\n",
      "   macro avg       0.47      0.47      0.47       250\n",
      "weighted avg       0.47      0.47      0.47       250\n",
      "\n"
     ]
    }
   ],
   "source": [
    "re = Ciel(\n",
    "    2, \n",
    "    1, \n",
    "    R=0.5,\n",
    "    imprecise_th=0.5,\n",
    "    bad_th=0.0015,\n",
    "    alpha=0.5,\n",
    "    memory_length=5,\n",
    "    n_epochs=5,\n",
    "    agents=AgentsLSVM\n",
    "    )\n",
    "\n",
    "re.fit(X_train, y_train_svm)\n",
    "y_pred = re.predict(X_test)\n",
    "print(classification_report(y_test_svm, y_pred,zero_division=0))"
   ]
  },
  {
   "cell_type": "code",
   "execution_count": 9,
   "metadata": {},
   "outputs": [
    {
     "data": {
      "text/plain": [
       "<matplotlib.legend.Legend at 0x15e4d5780>"
      ]
     },
     "execution_count": 9,
     "metadata": {},
     "output_type": "execute_result"
    },
    {
     "data": {
      "image/png": "[encoded data removed]",
      "text/plain": [
       "<Figure size 640x480 with 1 Axes>"
      ]
     },
     "metadata": {},
     "output_type": "display_data"
    }
   ],
   "source": [
    "colors = {\n",
    "    -1 : 'C1',\n",
    "    0 : 'C0',\n",
    "    1 : 'C2'\n",
    "}\n",
    "\n",
    "ax = plt.gca()\n",
    "ax.scatter(X_train[:, 0], X_train[:, 1], marker=\"o\", c=\"r\", alpha=0)\n",
    "plot_hypercubes(ax, re.estimator.agents.hypercubes.detach().numpy(), re.estimator.agents.base_prediction.numpy(),colors)\n",
    "ax.set_title(\"Agents spatial organization\")\n",
    "ax.set_xlabel(\"X1\")\n",
    "ax.set_ylabel(\"X2\")\n",
    "\n",
    "custom_handles = [plt.Rectangle((0, 0), 1, 1, color=colors[-1], alpha=0.4),\n",
    "                  plt.Rectangle((0, 0), 1, 1, color=colors[0], alpha=0.4),\n",
    "                  plt.Rectangle((0, 0), 1, 1, color=colors[1], alpha=0.4)]\n",
    "custom_labels = ['Default -1', 'SVM', 'Default 1']\n",
    "\n",
    "ax.legend(handles=custom_handles, labels=custom_labels)\n"
   ]
  },
  {
   "cell_type": "markdown",
   "metadata": {},
   "source": [
    "### XGBoost"
   ]
  },
  {
   "cell_type": "code",
   "execution_count": 17,
   "metadata": {},
   "outputs": [
    {
     "name": "stdout",
     "output_type": "stream",
     "text": [
      "              precision    recall  f1-score   support\n",
      "\n",
      "         0.0       0.48      0.38      0.42       117\n",
      "         1.0       0.54      0.65      0.59       133\n",
      "\n",
      "    accuracy                           0.52       250\n",
      "   macro avg       0.51      0.51      0.51       250\n",
      "weighted avg       0.51      0.52      0.51       250\n",
      "\n"
     ]
    }
   ],
   "source": [
    "bst = XGBClassifier()\n",
    "bst.fit(X_train, y_train)\n",
    "y_pred = bst.predict(X_test)\n",
    "print(classification_report(y_test, y_pred))"
   ]
  }
 ],
 "metadata": {
  "kernelspec": {
   "display_name": "Python 3.10.14 ('torch-mas')",
   "language": "python",
   "name": "python3"
  },
  "language_info": {
   "codemirror_mode": {
    "name": "ipython",
    "version": 3
   },
   "file_extension": ".py",
   "mimetype": "text/x-python",
   "name": "python",
   "nbconvert_exporter": "python",
   "pygments_lexer": "ipython3",
   "version": "3.10.14"
  },
  "orig_nbformat": 4,
  "vscode": {
   "interpreter": {
    "hash": "394b4c687aa976017887b8a89c643046da701ea2cbb5073d70393412479b6b3d"
   }
  }
 },
 "nbformat": 4,
 "nbformat_minor": 2
}
