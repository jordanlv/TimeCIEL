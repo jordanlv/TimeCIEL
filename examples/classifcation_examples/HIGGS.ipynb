{
 "cells": [
  {
   "cell_type": "code",
   "execution_count": 1,
   "metadata": {},
   "outputs": [],
   "source": [
    "%load_ext autoreload\n",
    "%autoreload 2"
   ]
  },
  {
   "cell_type": "code",
   "execution_count": 2,
   "metadata": {},
   "outputs": [],
   "source": [
    "import pandas as pd\n",
    "from sklearn.metrics import classification_report\n",
    "from sklearn.model_selection import train_test_split, GridSearchCV\n",
    "from sklearn import datasets\n",
    "import torch\n",
    "import matplotlib.pyplot as plt\n",
    "\n",
    "from sklearn.preprocessing import StandardScaler\n",
    "\n",
    "import numpy as np\n",
    "\n",
    "from xgboost import XGBClassifier"
   ]
  },
  {
   "cell_type": "code",
   "execution_count": 3,
   "metadata": {},
   "outputs": [],
   "source": [
    "torch.random.manual_seed(0)\n",
    "np.random.seed(0)"
   ]
  },
  {
   "cell_type": "code",
   "execution_count": 4,
   "metadata": {},
   "outputs": [],
   "source": [
    "from matplotlib.patches import Rectangle\n",
    "\n",
    "def plot_hypercubes(ax, hypercubes: torch.Tensor, base_prediction: torch.Tensor, colors, alpha=0.4):\n",
    "\n",
    "    for h, bp in zip(hypercubes,base_prediction):\n",
    "        low, high = h[:, 0], h[:, 1]\n",
    "        side_lengths = high - low\n",
    "\n",
    "        patch = Rectangle(low, side_lengths[0], side_lengths[1], facecolor=colors[bp], alpha=alpha)\n",
    "        ax.add_patch(patch)"
   ]
  },
  {
   "cell_type": "code",
   "execution_count": 5,
   "metadata": {},
   "outputs": [],
   "source": [
    "# Full dataset can be downloaded here : https://archive.ics.uci.edu/dataset/280/higgs\n",
    "df = pd.read_csv('small_HIGGS.csv',header=None,usecols=[1,2,3])"
   ]
  },
  {
   "cell_type": "code",
   "execution_count": 6,
   "metadata": {},
   "outputs": [
    {
     "data": {
      "text/html": [
       "<div>\n",
       "<style scoped>\n",
       "    .dataframe tbody tr th:only-of-type {\n",
       "        vertical-align: middle;\n",
       "    }\n",
       "\n",
       "    .dataframe tbody tr th {\n",
       "        vertical-align: top;\n",
       "    }\n",
       "\n",
       "    .dataframe thead th {\n",
       "        text-align: right;\n",
       "    }\n",
       "</style>\n",
       "<table border=\"1\" class=\"dataframe\">\n",
       "  <thead>\n",
       "    <tr style=\"text-align: right;\">\n",
       "      <th></th>\n",
       "      <th>1</th>\n",
       "      <th>2</th>\n",
       "      <th>3</th>\n",
       "    </tr>\n",
       "  </thead>\n",
       "  <tbody>\n",
       "    <tr>\n",
       "      <th>0</th>\n",
       "      <td>0.0</td>\n",
       "      <td>1.000000</td>\n",
       "      <td>2.000000</td>\n",
       "    </tr>\n",
       "    <tr>\n",
       "      <th>1</th>\n",
       "      <td>1.0</td>\n",
       "      <td>0.869293</td>\n",
       "      <td>-0.635082</td>\n",
       "    </tr>\n",
       "    <tr>\n",
       "      <th>2</th>\n",
       "      <td>1.0</td>\n",
       "      <td>0.907542</td>\n",
       "      <td>0.329147</td>\n",
       "    </tr>\n",
       "    <tr>\n",
       "      <th>3</th>\n",
       "      <td>1.0</td>\n",
       "      <td>0.798835</td>\n",
       "      <td>1.470639</td>\n",
       "    </tr>\n",
       "    <tr>\n",
       "      <th>4</th>\n",
       "      <td>0.0</td>\n",
       "      <td>1.344385</td>\n",
       "      <td>-0.876626</td>\n",
       "    </tr>\n",
       "    <tr>\n",
       "      <th>...</th>\n",
       "      <td>...</td>\n",
       "      <td>...</td>\n",
       "      <td>...</td>\n",
       "    </tr>\n",
       "    <tr>\n",
       "      <th>996</th>\n",
       "      <td>1.0</td>\n",
       "      <td>1.062917</td>\n",
       "      <td>-1.308094</td>\n",
       "    </tr>\n",
       "    <tr>\n",
       "      <th>997</th>\n",
       "      <td>1.0</td>\n",
       "      <td>0.687931</td>\n",
       "      <td>-0.765594</td>\n",
       "    </tr>\n",
       "    <tr>\n",
       "      <th>998</th>\n",
       "      <td>0.0</td>\n",
       "      <td>0.481497</td>\n",
       "      <td>-0.444184</td>\n",
       "    </tr>\n",
       "    <tr>\n",
       "      <th>999</th>\n",
       "      <td>1.0</td>\n",
       "      <td>0.564766</td>\n",
       "      <td>0.262917</td>\n",
       "    </tr>\n",
       "    <tr>\n",
       "      <th>1000</th>\n",
       "      <td>1.0</td>\n",
       "      <td>0.441052</td>\n",
       "      <td>0.801522</td>\n",
       "    </tr>\n",
       "  </tbody>\n",
       "</table>\n",
       "<p>1001 rows × 3 columns</p>\n",
       "</div>"
      ],
      "text/plain": [
       "        1         2         3\n",
       "0     0.0  1.000000  2.000000\n",
       "1     1.0  0.869293 -0.635082\n",
       "2     1.0  0.907542  0.329147\n",
       "3     1.0  0.798835  1.470639\n",
       "4     0.0  1.344385 -0.876626\n",
       "...   ...       ...       ...\n",
       "996   1.0  1.062917 -1.308094\n",
       "997   1.0  0.687931 -0.765594\n",
       "998   0.0  0.481497 -0.444184\n",
       "999   1.0  0.564766  0.262917\n",
       "1000  1.0  0.441052  0.801522\n",
       "\n",
       "[1001 rows x 3 columns]"
      ]
     },
     "execution_count": 6,
     "metadata": {},
     "output_type": "execute_result"
    }
   ],
   "source": [
    "df"
   ]
  },
  {
   "cell_type": "code",
   "execution_count": 7,
   "metadata": {},
   "outputs": [],
   "source": [
    "X_train, X_test, y_train, y_test = train_test_split(df[df.columns[1:]], df[df.columns[0]], random_state=0)\n",
    "\n",
    "scl = StandardScaler().fit(X_train)\n",
    "X_train = scl.transform(X_train.to_numpy())\n",
    "X_test = scl.transform(X_test.to_numpy())\n",
    "\n",
    "y_train_svm = torch.tensor(np.where(y_train == 0,-1,1)).unsqueeze(-1).float()\n",
    "y_test_svm = np.where(y_test == 0,-1,1)"
   ]
  },
  {
   "cell_type": "code",
   "execution_count": 8,
   "metadata": {},
   "outputs": [],
   "source": [
    "from torch_mas.data import DataBuffer\n",
    "\n",
    "dataset = DataBuffer(X_train,y_train_svm)"
   ]
  },
  {
   "cell_type": "code",
   "execution_count": 9,
   "metadata": {},
   "outputs": [
    {
     "name": "stdout",
     "output_type": "stream",
     "text": [
      "Total training time: 6.3053038120269775s\n",
      "Number of agents created: 449\n"
     ]
    }
   ],
   "source": [
    "import time\n",
    "from torch_mas.sequential.trainer import ClassifTrainer as Trainer\n",
    "from torch_mas.sequential.internal_model import SVM\n",
    "from torch_mas.sequential.activation_function import BaseActivation\n",
    "\n",
    "validity = BaseActivation(\n",
    "    dataset.input_dim, \n",
    "    dataset.output_dim, \n",
    "    alpha=0.5, \n",
    ")\n",
    "internal_model = SVM(\n",
    "    dataset.input_dim, \n",
    "    dataset.output_dim, \n",
    "    l1=0.1, \n",
    "    memory_length=10, \n",
    ")\n",
    "model = Trainer(\n",
    "    validity,\n",
    "    internal_model,\n",
    "    R=0.3,\n",
    "    imprecise_th=0.5,\n",
    "    bad_th=0.0015,\n",
    "    n_epochs=5,\n",
    ")\n",
    "\n",
    "t = time.time()\n",
    "model.fit(dataset)\n",
    "tt = time.time() - t\n",
    "print(f\"Total training time: {tt}s\")\n",
    "\n",
    "print(\"Number of agents created:\", model.n_agents)\n",
    "\n"
   ]
  },
  {
   "cell_type": "code",
   "execution_count": 10,
   "metadata": {},
   "outputs": [
    {
     "name": "stdout",
     "output_type": "stream",
     "text": [
      "              precision    recall  f1-score   support\n",
      "\n",
      "           0       0.00      0.00      0.00       119\n",
      "           1       0.50      0.50      0.50       132\n",
      "\n",
      "   micro avg       0.50      0.26      0.34       251\n",
      "   macro avg       0.25      0.25      0.25       251\n",
      "weighted avg       0.26      0.26      0.26       251\n",
      "\n"
     ]
    },
    {
     "name": "stderr",
     "output_type": "stream",
     "text": [
      "/opt/homebrew/Caskroom/miniforge/base/envs/ciel/lib/python3.11/site-packages/sklearn/metrics/_classification.py:1531: UndefinedMetricWarning: Precision is ill-defined and being set to 0.0 in labels with no predicted samples. Use `zero_division` parameter to control this behavior.\n",
      "  _warn_prf(average, modifier, f\"{metric.capitalize()} is\", len(result))\n",
      "/opt/homebrew/Caskroom/miniforge/base/envs/ciel/lib/python3.11/site-packages/sklearn/metrics/_classification.py:1531: UndefinedMetricWarning: Precision is ill-defined and being set to 0.0 in labels with no predicted samples. Use `zero_division` parameter to control this behavior.\n",
      "  _warn_prf(average, modifier, f\"{metric.capitalize()} is\", len(result))\n",
      "/opt/homebrew/Caskroom/miniforge/base/envs/ciel/lib/python3.11/site-packages/sklearn/metrics/_classification.py:1531: UndefinedMetricWarning: Precision is ill-defined and being set to 0.0 in labels with no predicted samples. Use `zero_division` parameter to control this behavior.\n",
      "  _warn_prf(average, modifier, f\"{metric.capitalize()} is\", len(result))\n"
     ]
    }
   ],
   "source": [
    "y_pred = model.predict(torch.tensor(X_test).float())\n",
    "print(classification_report(y_test.round(), y_pred.round(),labels=[0,1]))"
   ]
  },
  {
   "cell_type": "code",
   "execution_count": 11,
   "metadata": {},
   "outputs": [
    {
     "data": {
      "text/plain": [
       "<matplotlib.legend.Legend at 0x15e530610>"
      ]
     },
     "execution_count": 11,
     "metadata": {},
     "output_type": "execute_result"
    },
    {
     "data": {
      "image/png": "[encoded data removed]",
      "text/plain": [
       "<Figure size 640x480 with 1 Axes>"
      ]
     },
     "metadata": {},
     "output_type": "display_data"
    }
   ],
   "source": [
    "colors = {\n",
    "    -1 : 'C1',\n",
    "    0 : 'C0',\n",
    "    1 : 'C2'\n",
    "}\n",
    "\n",
    "ax = plt.gca()\n",
    "ax.scatter(X_train[:, 0], X_train[:, 1], marker=\"o\", c=\"r\", alpha=0)\n",
    "plot_hypercubes(ax, model.activation.orthotopes.detach().numpy(), model.internal_model.base_prediction.numpy(),colors)\n",
    "ax.set_title(\"Agents spatial organization\")\n",
    "ax.set_xlabel(\"X1\")\n",
    "ax.set_ylabel(\"X2\")\n",
    "\n",
    "custom_handles = [plt.Rectangle((0, 0), 1, 1, color=colors[-1], alpha=0.4),\n",
    "                  plt.Rectangle((0, 0), 1, 1, color=colors[0], alpha=0.4),\n",
    "                  plt.Rectangle((0, 0), 1, 1, color=colors[1], alpha=0.4)]\n",
    "custom_labels = ['Default -1', 'SVM', 'Default 1']\n",
    "\n",
    "ax.legend(handles=custom_handles, labels=custom_labels)\n"
   ]
  },
  {
   "cell_type": "markdown",
   "metadata": {},
   "source": [
    "### XGBoost"
   ]
  },
  {
   "cell_type": "code",
   "execution_count": 12,
   "metadata": {},
   "outputs": [
    {
     "name": "stdout",
     "output_type": "stream",
     "text": [
      "              precision    recall  f1-score   support\n",
      "\n",
      "         0.0       0.43      0.40      0.42       119\n",
      "         1.0       0.49      0.52      0.51       132\n",
      "\n",
      "    accuracy                           0.47       251\n",
      "   macro avg       0.46      0.46      0.46       251\n",
      "weighted avg       0.46      0.47      0.46       251\n",
      "\n"
     ]
    }
   ],
   "source": [
    "bst = XGBClassifier()\n",
    "bst.fit(X_train, y_train)\n",
    "y_pred = bst.predict(X_test)\n",
    "print(classification_report(y_test, y_pred))"
   ]
  },
  {
   "cell_type": "code",
   "execution_count": 27,
   "metadata": {},
   "outputs": [
    {
     "name": "stdout",
     "output_type": "stream",
     "text": [
      "Total training time: 1.9958088397979736s\n",
      "Number of agents created: 226\n"
     ]
    }
   ],
   "source": [
    "import time\n",
    "from torch_mas.batch.trainer import ClassifTrainer as Trainer\n",
    "from torch_mas.batch.internal_model import SVM\n",
    "from torch_mas.batch.activation_function import BaseActivation, AVRTActivation\n",
    "\n",
    "device='cpu'\n",
    "\n",
    "activation = AVRTActivation(\n",
    "    dataset.input_dim, \n",
    "    dataset.output_dim, \n",
    "    device=device\n",
    ")\n",
    "\n",
    "internal_model = SVM(\n",
    "    dataset.input_dim,\n",
    "    dataset.output_dim,\n",
    "    lr=1e-2,\n",
    "    memory_length=5,\n",
    "    alpha=0.5,\n",
    "    device=device\n",
    ")\n",
    "\n",
    "model = Trainer(\n",
    "    activation,\n",
    "    internal_model,\n",
    "    R=0.3,\n",
    "    bad_th=0.0015,\n",
    "    imprecise_th=0.5,\n",
    "    n_epochs=50,\n",
    "    batch_size=64,\n",
    "    device=device\n",
    ")\n",
    "\n",
    "t = time.time()\n",
    "model.fit(dataset)\n",
    "tt = time.time() - t\n",
    "print(f\"Total training time: {tt}s\")\n",
    "\n",
    "print(\"Number of agents created:\", model.n_agents)"
   ]
  },
  {
   "cell_type": "code",
   "execution_count": 21,
   "metadata": {},
   "outputs": [
    {
     "name": "stdout",
     "output_type": "stream",
     "text": [
      "              precision    recall  f1-score   support\n",
      "\n",
      "           0       0.00      0.00      0.00       119\n",
      "           1       0.51      0.56      0.53       132\n",
      "\n",
      "   micro avg       0.51      0.29      0.37       251\n",
      "   macro avg       0.25      0.28      0.27       251\n",
      "weighted avg       0.27      0.29      0.28       251\n",
      "\n"
     ]
    },
    {
     "name": "stderr",
     "output_type": "stream",
     "text": [
      "/opt/homebrew/Caskroom/miniforge/base/envs/ciel/lib/python3.11/site-packages/sklearn/metrics/_classification.py:1531: UndefinedMetricWarning: Precision is ill-defined and being set to 0.0 in labels with no predicted samples. Use `zero_division` parameter to control this behavior.\n",
      "  _warn_prf(average, modifier, f\"{metric.capitalize()} is\", len(result))\n",
      "/opt/homebrew/Caskroom/miniforge/base/envs/ciel/lib/python3.11/site-packages/sklearn/metrics/_classification.py:1531: UndefinedMetricWarning: Precision is ill-defined and being set to 0.0 in labels with no predicted samples. Use `zero_division` parameter to control this behavior.\n",
      "  _warn_prf(average, modifier, f\"{metric.capitalize()} is\", len(result))\n",
      "/opt/homebrew/Caskroom/miniforge/base/envs/ciel/lib/python3.11/site-packages/sklearn/metrics/_classification.py:1531: UndefinedMetricWarning: Precision is ill-defined and being set to 0.0 in labels with no predicted samples. Use `zero_division` parameter to control this behavior.\n",
      "  _warn_prf(average, modifier, f\"{metric.capitalize()} is\", len(result))\n"
     ]
    }
   ],
   "source": [
    "y_pred = model.predict(torch.tensor(X_test).float())\n",
    "print(classification_report(y_test.round(), y_pred.round(),labels=[0,1]))"
   ]
  },
  {
   "cell_type": "code",
   "execution_count": 28,
   "metadata": {},
   "outputs": [
    {
     "data": {
      "text/plain": [
       "<matplotlib.legend.Legend at 0x176485350>"
      ]
     },
     "execution_count": 28,
     "metadata": {},
     "output_type": "execute_result"
    },
    {
     "data": {
      "image/png": "[encoded data removed]",
      "text/plain": [
       "<Figure size 640x480 with 1 Axes>"
      ]
     },
     "metadata": {},
     "output_type": "display_data"
    }
   ],
   "source": [
    "colors = {\n",
    "    -1 : 'C1',\n",
    "    0 : 'C0',\n",
    "    1 : 'C2'\n",
    "}\n",
    "\n",
    "ax = plt.gca()\n",
    "ax.scatter(X_train[:, 0], X_train[:, 1], marker=\"o\", c=\"r\", alpha=0)\n",
    "plot_hypercubes(ax, model.activation.orthotopes.detach().numpy(), model.internal_model.base_prediction.numpy(),colors)\n",
    "ax.set_title(\"Agents spatial organization\")\n",
    "ax.set_xlabel(\"X1\")\n",
    "ax.set_ylabel(\"X2\")\n",
    "\n",
    "custom_handles = [plt.Rectangle((0, 0), 1, 1, color=colors[-1], alpha=0.4),\n",
    "                  plt.Rectangle((0, 0), 1, 1, color=colors[0], alpha=0.4),\n",
    "                  plt.Rectangle((0, 0), 1, 1, color=colors[1], alpha=0.4)]\n",
    "custom_labels = ['Default -1', 'SVM', 'Default 1']\n",
    "\n",
    "ax.legend(handles=custom_handles, labels=custom_labels)\n"
   ]
  }
 ],
 "metadata": {
  "kernelspec": {
   "display_name": "Python 3.11.10 ('ciel')",
   "language": "python",
   "name": "python3"
  },
  "language_info": {
   "codemirror_mode": {
    "name": "ipython",
    "version": 3
   },
   "file_extension": ".py",
   "mimetype": "text/x-python",
   "name": "python",
   "nbconvert_exporter": "python",
   "pygments_lexer": "ipython3",
   "version": "3.11.10"
  },
  "orig_nbformat": 4,
  "vscode": {
   "interpreter": {
    "hash": "c02b8d30007ebd3f055dc2d16802e77f263ce58cdba8d3d52af004c1356fe7d9"
   }
  }
 },
 "nbformat": 4,
 "nbformat_minor": 2
}
